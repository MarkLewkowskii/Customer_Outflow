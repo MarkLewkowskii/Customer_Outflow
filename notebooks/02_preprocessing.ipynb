{
 "cells": [
  {
   "cell_type": "code",
   "execution_count": 23,
   "metadata": {
    "colab": {
     "base_uri": "https://localhost:8080/"
    },
    "id": "KgflQI50C4ws",
    "outputId": "f5597cf9-d1b3-4aaa-cd76-1817f108c3c7"
   },
   "outputs": [
    {
     "name": "stdout",
     "output_type": "stream",
     "text": [
      "   id  is_tv_subscriber  is_movie_package_subscriber  subscription_age  \\\n",
      "0  15                 1                            0             11.95   \n",
      "1  18                 0                            0              8.22   \n",
      "2  23                 1                            0              8.91   \n",
      "3  27                 0                            0              6.87   \n",
      "4  34                 0                            0              6.39   \n",
      "\n",
      "   bill_avg  reamining_contract  service_failure_count  download_avg  \\\n",
      "0        25                0.14                      0           8.4   \n",
      "1         0                 NaN                      0           0.0   \n",
      "2        16                0.00                      0          13.7   \n",
      "3        21                 NaN                      1           0.0   \n",
      "4         0                 NaN                      0           0.0   \n",
      "\n",
      "   upload_avg  download_over_limit  churn  \n",
      "0         2.3                    0      0  \n",
      "1         0.0                    0      1  \n",
      "2         0.9                    0      1  \n",
      "3         0.0                    0      1  \n",
      "4         0.0                    0      1  \n",
      "(72274, 11)\n"
     ]
    }
   ],
   "source": [
    "# Завнтажуємо дані\n",
    "import pandas as pd\n",
    "\n",
    "#Завантаження даних\n",
    "file_path = 'internet_service_churn.csv'\n",
    "data = pd.read_csv(file_path)\n",
    "\n",
    "#Первинний огляд даних\n",
    "print(data.head(5))\n",
    "print(data.shape)"
   ]
  },
  {
   "cell_type": "markdown",
   "metadata": {
    "id": "A9JQDT98pRSp"
   },
   "source": [
    "***Обробка пропусків***"
   ]
  },
  {
   "cell_type": "code",
   "execution_count": 26,
   "metadata": {
    "colab": {
     "base_uri": "https://localhost:8080/",
     "height": 144
    },
    "id": "swEotJOupngj",
    "outputId": "a80b7398-b6c4-4741-ee0f-333d04e92eda"
   },
   "outputs": [
    {
     "data": {
      "text/html": [
       "<div>\n",
       "<style scoped>\n",
       "    .dataframe tbody tr th:only-of-type {\n",
       "        vertical-align: middle;\n",
       "    }\n",
       "\n",
       "    .dataframe tbody tr th {\n",
       "        vertical-align: top;\n",
       "    }\n",
       "\n",
       "    .dataframe thead th {\n",
       "        text-align: right;\n",
       "    }\n",
       "</style>\n",
       "<table border=\"1\" class=\"dataframe\">\n",
       "  <thead>\n",
       "    <tr style=\"text-align: right;\">\n",
       "      <th></th>\n",
       "      <th>Missing Values</th>\n",
       "      <th>Percentage</th>\n",
       "    </tr>\n",
       "  </thead>\n",
       "  <tbody>\n",
       "    <tr>\n",
       "      <th>reamining_contract</th>\n",
       "      <td>21572</td>\n",
       "      <td>29.847525</td>\n",
       "    </tr>\n",
       "    <tr>\n",
       "      <th>download_avg</th>\n",
       "      <td>381</td>\n",
       "      <td>0.527161</td>\n",
       "    </tr>\n",
       "    <tr>\n",
       "      <th>upload_avg</th>\n",
       "      <td>381</td>\n",
       "      <td>0.527161</td>\n",
       "    </tr>\n",
       "  </tbody>\n",
       "</table>\n",
       "</div>"
      ],
      "text/plain": [
       "                    Missing Values  Percentage\n",
       "reamining_contract           21572   29.847525\n",
       "download_avg                   381    0.527161\n",
       "upload_avg                     381    0.527161"
      ]
     },
     "execution_count": 26,
     "metadata": {},
     "output_type": "execute_result"
    }
   ],
   "source": [
    "#Аналіз відсутніх значень у наборі даних\n",
    "missing_data = data.isnull().sum()\n",
    "\n",
    "#Обчислення відсотка відсутніх значень для кожного стовпчика\n",
    "missing_percentage = (missing_data / len(data)) * 100\n",
    "\n",
    "#Відображення стовпців з відсутніми значеннями та їх відсотки\n",
    "missing_info = pd.DataFrame({\"Missing Values\": missing_data, \"Percentage\": missing_percentage})\n",
    "missing_info[missing_info[\"Missing Values\"] > 0]"
   ]
  },
  {
   "cell_type": "markdown",
   "metadata": {},
   "source": [
    "**Було обрано заповнення медіанами, тому що цей підхід дозволяє зберегти дані без значного внеску в статистику. Якщо б пропущені значення видалили, це б вплинуло на логіку аналізу, оскільки дані могли бути критичними для розуміння клієнтів.**"
   ]
  },
  {
   "cell_type": "code",
   "execution_count": 29,
   "metadata": {
    "colab": {
     "base_uri": "https://localhost:8080/",
     "height": 400
    },
    "id": "_-F_omTmqKzx",
    "outputId": "1a78875b-4dbf-4147-86ba-d916ab466491"
   },
   "outputs": [],
   "source": [
    "# Список колонок для заповнення пропусків медіанами\n",
    "columns_to_fill = ['download_avg', 'upload_avg']\n",
    "\n",
    "# Заповнюємо пропуски медіанами\n",
    "for column in columns_to_fill:\n",
    "    data[column] = data[column].fillna(data[column].median())"
   ]
  },
  {
   "cell_type": "markdown",
   "metadata": {},
   "source": [
    "**Виходячи з аналізу даних, для користувачів з відтоком (churn = 1) значення remaining_contract мають схильність до низьких значень, тоді як для користувачів без відтоку (churn = 0) значення більше розподілені й ближчі до середніх значень, тому ми будемо заповнювати їх за допомогою групового розподілу, використовуючи окремо медіани для churn = 1 та для churn = 0**"
   ]
  },
  {
   "cell_type": "code",
   "execution_count": 32,
   "metadata": {},
   "outputs": [
    {
     "name": "stdout",
     "output_type": "stream",
     "text": [
      "Пропущені значення заповнені медіаною окремо для кожної групи.\n"
     ]
    }
   ],
   "source": [
    "# Окрема обробка для 'reamining_contract', із-за великої кількості пропущених даних і виявлення впливу на цільову змінну\n",
    "\n",
    "target = 'reamining_contract'  # Змінна з пропусками\n",
    "grouping_var = 'churn'  # Змінна для групування\n",
    "\n",
    "# Функція для заповнення пропусків медіаною у кожній групі\n",
    "def fill_missing_by_group(data, target, grouping_var):\n",
    "    for group in data[grouping_var].unique():\n",
    "        group_median = data.loc[data[grouping_var] == group, target].median()\n",
    "        data.loc[(data[grouping_var] == group) & (data[target].isnull()), target] = group_median\n",
    "    return data\n",
    "\n",
    "# Виклик функції для заповнення пропусків\n",
    "data = fill_missing_by_group(data, target, grouping_var)\n",
    "\n",
    "print(\"Пропущені значення заповнені медіаною окремо для кожної групи.\")"
   ]
  },
  {
   "cell_type": "code",
   "execution_count": 34,
   "metadata": {},
   "outputs": [
    {
     "name": "stdout",
     "output_type": "stream",
     "text": [
      "id                             0\n",
      "is_tv_subscriber               0\n",
      "is_movie_package_subscriber    0\n",
      "subscription_age               0\n",
      "bill_avg                       0\n",
      "reamining_contract             0\n",
      "service_failure_count          0\n",
      "download_avg                   0\n",
      "upload_avg                     0\n",
      "download_over_limit            0\n",
      "churn                          0\n",
      "dtype: int64\n"
     ]
    }
   ],
   "source": [
    "# Перевірка, що відсутніх значень більше немає\n",
    "missing_values_count = data.isnull().sum()\n",
    "print(missing_values_count)"
   ]
  },
  {
   "cell_type": "markdown",
   "metadata": {
    "id": "jKXKezpjyS1Q"
   },
   "source": [
    "***Закодувати категоріальні змінні***"
   ]
  },
  {
   "cell_type": "markdown",
   "metadata": {
    "id": "1zcHrK_6vqRi"
   },
   "source": [
    "**У датасеті всі потенційно категоріальні змінні is_tv_subscriber, is_movie_package_subscriber, download_over_limit, churn вже представлені як числові бінарні змінні 0 або 1.\n",
    "Це означає, що вони не потребують додаткового кодування.**"
   ]
  },
  {
   "cell_type": "markdown",
   "metadata": {
    "id": "MKKdsKUp2zLZ"
   },
   "source": [
    "***Провести нормалізацію/стандартизацію числових ознак***"
   ]
  },
  {
   "cell_type": "markdown",
   "metadata": {
    "id": "eu5tyyctz_KP"
   },
   "source": [
    "**У нашому випадку стандартизація буде більш доречною для забезпечення збалансованості вкладу різних ознак.**"
   ]
  },
  {
   "cell_type": "code",
   "execution_count": 40,
   "metadata": {
    "colab": {
     "base_uri": "https://localhost:8080/"
    },
    "id": "Zim0lsIf3HUb",
    "outputId": "d2fc1bc0-29f8-4ed0-cee6-f4772f98bd2a"
   },
   "outputs": [
    {
     "name": "stdout",
     "output_type": "stream",
     "text": [
      "   id  is_tv_subscriber  is_movie_package_subscriber  subscription_age  \\\n",
      "0  15                 1                            0          4.668335   \n",
      "1  18                 0                            0          2.835389   \n",
      "2  23                 1                            0          3.174460   \n",
      "3  27                 0                            0          2.171991   \n",
      "4  34                 0                            0          1.936116   \n",
      "\n",
      "   bill_avg  reamining_contract  service_failure_count  download_avg  \\\n",
      "0  0.458372           -0.581665                      0     -0.556631   \n",
      "1 -1.433376           -0.790463                      0     -0.689440   \n",
      "2 -0.222657           -0.790463                      0     -0.472835   \n",
      "3  0.155692           -0.790463                      1     -0.689440   \n",
      "4 -1.433376           -0.790463                      0     -0.689440   \n",
      "\n",
      "   upload_avg  download_over_limit  churn  \n",
      "0   -0.192060                    0      0  \n",
      "1   -0.426895                    0      1  \n",
      "2   -0.335003                    0      1  \n",
      "3   -0.426895                    0      1  \n",
      "4   -0.426895                    0      1  \n"
     ]
    }
   ],
   "source": [
    "from sklearn.preprocessing import StandardScaler\n",
    "\n",
    "#Визначення числових змінних\n",
    "numerical_columns = ['subscription_age', 'bill_avg', 'reamining_contract', 'download_avg', 'upload_avg']\n",
    "\n",
    "#Ініціалізація StandardScaler\n",
    "scaler = StandardScaler()\n",
    "\n",
    "#Стандартизація\n",
    "data[numerical_columns] = scaler.fit_transform(data[numerical_columns])\n",
    "\n",
    "#Вивід результату\n",
    "print(data.head())"
   ]
  },
  {
   "cell_type": "code",
   "execution_count": 42,
   "metadata": {
    "colab": {
     "base_uri": "https://localhost:8080/"
    },
    "id": "6T1KWaoj3bWR",
    "outputId": "8df2f1a6-adac-4761-bf52-a0055062e3da"
   },
   "outputs": [
    {
     "name": "stdout",
     "output_type": "stream",
     "text": [
      "subscription_age      0.000000e+00\n",
      "bill_avg              7.864989e-18\n",
      "reamining_contract   -1.006719e-16\n",
      "download_avg          1.101098e-17\n",
      "upload_avg            3.145995e-17\n",
      "dtype: float64\n",
      "subscription_age      1.000007\n",
      "bill_avg              1.000007\n",
      "reamining_contract    1.000007\n",
      "download_avg          1.000007\n",
      "upload_avg            1.000007\n",
      "dtype: float64\n"
     ]
    }
   ],
   "source": [
    "#Визначення числових змінних\n",
    "numerical_columns = ['subscription_age', 'bill_avg', 'reamining_contract', 'download_avg', 'upload_avg']\n",
    "# Перевірка правильності\n",
    "print(data[numerical_columns].mean()) #Середнє значення\n",
    "print(data[numerical_columns].std()) #Стандартне відхилення"
   ]
  },
  {
   "cell_type": "code",
   "execution_count": 44,
   "metadata": {},
   "outputs": [
    {
     "name": "stdout",
     "output_type": "stream",
     "text": [
      "Параметри StandardScaler збережено у файл: scaler.pkl\n"
     ]
    }
   ],
   "source": [
    "# Збереження параметрів StandardScaler для подальшого використання\n",
    "scaler_path = 'scaler.pkl'\n",
    "joblib.dump(scaler, scaler_path)\n",
    "print(f\"Параметри StandardScaler збережено у файл: {scaler_path}\")"
   ]
  },
  {
   "cell_type": "code",
   "execution_count": 21,
   "metadata": {
    "id": "5fM5zdCP6-QS"
   },
   "outputs": [],
   "source": [
    "#Збереження підготовлених данних\n",
    "data.to_csv('processed_data.csv', index=False)"
   ]
  }
 ],
 "metadata": {
  "colab": {
   "provenance": []
  },
  "kernelspec": {
   "display_name": "Python 3 (ipykernel)",
   "language": "python",
   "name": "python3"
  },
  "language_info": {
   "codemirror_mode": {
    "name": "ipython",
    "version": 3
   },
   "file_extension": ".py",
   "mimetype": "text/x-python",
   "name": "python",
   "nbconvert_exporter": "python",
   "pygments_lexer": "ipython3",
   "version": "3.12.4"
  }
 },
 "nbformat": 4,
 "nbformat_minor": 4
}
