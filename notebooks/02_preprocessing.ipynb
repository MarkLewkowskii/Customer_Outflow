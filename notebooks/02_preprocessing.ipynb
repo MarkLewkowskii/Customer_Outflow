{
 "cells": [
  {
   "cell_type": "code",
   "execution_count": 5,
   "metadata": {
    "colab": {
     "base_uri": "https://localhost:8080/"
    },
    "id": "KgflQI50C4ws",
    "outputId": "f5597cf9-d1b3-4aaa-cd76-1817f108c3c7"
   },
   "outputs": [
    {
     "name": "stdout",
     "output_type": "stream",
     "text": [
      "<class 'pandas.core.frame.DataFrame'>\n",
      "RangeIndex: 72274 entries, 0 to 72273\n",
      "Data columns (total 11 columns):\n",
      " #   Column                       Non-Null Count  Dtype  \n",
      "---  ------                       --------------  -----  \n",
      " 0   id                           72274 non-null  int64  \n",
      " 1   is_tv_subscriber             72274 non-null  int64  \n",
      " 2   is_movie_package_subscriber  72274 non-null  int64  \n",
      " 3   subscription_age             72274 non-null  float64\n",
      " 4   bill_avg                     72274 non-null  int64  \n",
      " 5   reamining_contract           50702 non-null  float64\n",
      " 6   service_failure_count        72274 non-null  int64  \n",
      " 7   download_avg                 71893 non-null  float64\n",
      " 8   upload_avg                   71893 non-null  float64\n",
      " 9   download_over_limit          72274 non-null  int64  \n",
      " 10  churn                        72274 non-null  int64  \n",
      "dtypes: float64(4), int64(7)\n",
      "memory usage: 6.1 MB\n"
     ]
    },
    {
     "data": {
      "text/plain": [
       "(None,\n",
       "    id  is_tv_subscriber  is_movie_package_subscriber  subscription_age  \\\n",
       " 0  15                 1                            0             11.95   \n",
       " 1  18                 0                            0              8.22   \n",
       " 2  23                 1                            0              8.91   \n",
       " 3  27                 0                            0              6.87   \n",
       " 4  34                 0                            0              6.39   \n",
       " \n",
       "    bill_avg  reamining_contract  service_failure_count  download_avg  \\\n",
       " 0        25                0.14                      0           8.4   \n",
       " 1         0                 NaN                      0           0.0   \n",
       " 2        16                0.00                      0          13.7   \n",
       " 3        21                 NaN                      1           0.0   \n",
       " 4         0                 NaN                      0           0.0   \n",
       " \n",
       "    upload_avg  download_over_limit  churn  \n",
       " 0         2.3                    0      0  \n",
       " 1         0.0                    0      1  \n",
       " 2         0.9                    0      1  \n",
       " 3         0.0                    0      1  \n",
       " 4         0.0                    0      1  )"
      ]
     },
     "execution_count": 5,
     "metadata": {},
     "output_type": "execute_result"
    }
   ],
   "source": [
    "import pandas as pd\n",
    "\n",
    "file_path = 'internet_service_churn.csv'\n",
    "data = pd.read_csv(file_path)\n",
    "\n",
    "data.info(), data.head()\n"
   ]
  },
  {
   "cell_type": "markdown",
   "metadata": {
    "id": "A9JQDT98pRSp"
   },
   "source": [
    "***Обробка пропусків***"
   ]
  },
  {
   "cell_type": "code",
   "execution_count": 7,
   "metadata": {
    "colab": {
     "base_uri": "https://localhost:8080/",
     "height": 144
    },
    "id": "swEotJOupngj",
    "outputId": "a80b7398-b6c4-4741-ee0f-333d04e92eda"
   },
   "outputs": [
    {
     "data": {
      "text/html": [
       "<div>\n",
       "<style scoped>\n",
       "    .dataframe tbody tr th:only-of-type {\n",
       "        vertical-align: middle;\n",
       "    }\n",
       "\n",
       "    .dataframe tbody tr th {\n",
       "        vertical-align: top;\n",
       "    }\n",
       "\n",
       "    .dataframe thead th {\n",
       "        text-align: right;\n",
       "    }\n",
       "</style>\n",
       "<table border=\"1\" class=\"dataframe\">\n",
       "  <thead>\n",
       "    <tr style=\"text-align: right;\">\n",
       "      <th></th>\n",
       "      <th>Missing Values</th>\n",
       "      <th>Percentage</th>\n",
       "    </tr>\n",
       "  </thead>\n",
       "  <tbody>\n",
       "    <tr>\n",
       "      <th>reamining_contract</th>\n",
       "      <td>21572</td>\n",
       "      <td>29.847525</td>\n",
       "    </tr>\n",
       "    <tr>\n",
       "      <th>download_avg</th>\n",
       "      <td>381</td>\n",
       "      <td>0.527161</td>\n",
       "    </tr>\n",
       "    <tr>\n",
       "      <th>upload_avg</th>\n",
       "      <td>381</td>\n",
       "      <td>0.527161</td>\n",
       "    </tr>\n",
       "  </tbody>\n",
       "</table>\n",
       "</div>"
      ],
      "text/plain": [
       "                    Missing Values  Percentage\n",
       "reamining_contract           21572   29.847525\n",
       "download_avg                   381    0.527161\n",
       "upload_avg                     381    0.527161"
      ]
     },
     "execution_count": 7,
     "metadata": {},
     "output_type": "execute_result"
    }
   ],
   "source": [
    "#Аналіз відсутніх значень у наборі даних\n",
    "missing_data = data.isnull().sum()\n",
    "\n",
    "#Обчислення відсотка відсутніх значень для кожного стовпчика\n",
    "missing_percentage = (missing_data / len(data)) * 100\n",
    "\n",
    "#Відображення стовпців з відсутніми значеннями та їх відсотки\n",
    "missing_info = pd.DataFrame({\"Missing Values\": missing_data, \"Percentage\": missing_percentage})\n",
    "missing_info[missing_info[\"Missing Values\"] > 0]"
   ]
  },
  {
   "cell_type": "code",
   "execution_count": 13,
   "metadata": {
    "colab": {
     "base_uri": "https://localhost:8080/",
     "height": 400
    },
    "id": "_-F_omTmqKzx",
    "outputId": "1a78875b-4dbf-4147-86ba-d916ab466491"
   },
   "outputs": [
    {
     "name": "stdout",
     "output_type": "stream",
     "text": [
      "id                             0\n",
      "is_tv_subscriber               0\n",
      "is_movie_package_subscriber    0\n",
      "subscription_age               0\n",
      "bill_avg                       0\n",
      "reamining_contract             0\n",
      "service_failure_count          0\n",
      "download_avg                   0\n",
      "upload_avg                     0\n",
      "download_over_limit            0\n",
      "churn                          0\n",
      "dtype: int64\n"
     ]
    },
    {
     "data": {
      "text/plain": [
       "'\\nБуло обрано заповнення медіанами, тому що цей підхід дозволяє зберегти дані без значного внеску в статистику. \\nЯкщо б пропущені значення видалили, це б вплинуло на логіку аналізу, оскільки дані могли бути критичними для розуміння клієнтів.\\n'"
      ]
     },
     "execution_count": 13,
     "metadata": {},
     "output_type": "execute_result"
    }
   ],
   "source": [
    "# Список колонок для заповнення пропусків медіанами\n",
    "columns_to_fill = ['reamining_contract', 'download_avg', 'upload_avg']\n",
    "\n",
    "# Заповнюємо пропуски медіанами\n",
    "for column in columns_to_fill:\n",
    "    data[column] = data[column].fillna(data[column].median())\n",
    "\n",
    "# Перевірка, що відсутніх значень більше немає\n",
    "missing_values_count = data.isnull().sum()\n",
    "\n",
    "print(missing_values_count)\n",
    "\n",
    "\"\"\"\n",
    "Було обрано заповнення медіанами, тому що цей підхід дозволяє зберегти дані без значного внеску в статистику. \n",
    "Якщо б пропущені значення видалили, це б вплинуло на логіку аналізу, оскільки дані могли бути критичними для розуміння клієнтів.\n",
    "\"\"\"\n"
   ]
  },
  {
   "cell_type": "code",
   "execution_count": 17,
   "metadata": {},
   "outputs": [
    {
     "name": "stdout",
     "output_type": "stream",
     "text": [
      "Медіани збережено у файл: medians.json\n"
     ]
    }
   ],
   "source": [
    "import json\n",
    "from sklearn.preprocessing import StandardScaler\n",
    "import joblib\n",
    "\n",
    "# Розрахунок медіан для колонок із пропусками\n",
    "median_values = {\n",
    "    'reamining_contract': data['reamining_contract'].median(),\n",
    "    'download_avg': data['download_avg'].median(),\n",
    "    'upload_avg': data['upload_avg'].median()\n",
    "}\n",
    "\n",
    "# Збереження медіан у файл\n",
    "medians_path = 'medians.json'\n",
    "with open(medians_path, 'w') as file:\n",
    "    json.dump(median_values, file)\n",
    "print(f\"Медіани збережено у файл: {medians_path}\")"
   ]
  },
  {
   "cell_type": "markdown",
   "metadata": {
    "id": "jKXKezpjyS1Q"
   },
   "source": [
    "***Закодувати категоріальні змінні***"
   ]
  },
  {
   "cell_type": "code",
   "execution_count": null,
   "metadata": {
    "id": "1zcHrK_6vqRi"
   },
   "outputs": [],
   "source": [
    "\"\"\"\n",
    "У датасеті всі потенційно категоріальні змінні is_tv_subscriber, is_movie_package_subscriber, download_over_limit, churn вже представлені як числові бінарні змінні 0 або 1.\n",
    "Це означає, що вони не потребують додаткового кодування.\n",
    "\"\"\""
   ]
  },
  {
   "cell_type": "markdown",
   "metadata": {
    "id": "MKKdsKUp2zLZ"
   },
   "source": [
    "***Провести нормалізацію/стандартизацію числових ознак***"
   ]
  },
  {
   "cell_type": "code",
   "execution_count": null,
   "metadata": {
    "id": "eu5tyyctz_KP"
   },
   "outputs": [],
   "source": [
    "\"\"\"\n",
    "У нашому випадку стандартизація буде більш доречною для забезпечення збалансованості вкладу різних ознак\n",
    "\"\"\""
   ]
  },
  {
   "cell_type": "code",
   "execution_count": 19,
   "metadata": {
    "colab": {
     "base_uri": "https://localhost:8080/"
    },
    "id": "Zim0lsIf3HUb",
    "outputId": "d2fc1bc0-29f8-4ed0-cee6-f4772f98bd2a"
   },
   "outputs": [
    {
     "name": "stdout",
     "output_type": "stream",
     "text": [
      "   id  is_tv_subscriber  is_movie_package_subscriber  subscription_age  \\\n",
      "0  15                 1                            0          4.668335   \n",
      "1  18                 0                            0          2.835389   \n",
      "2  23                 1                            0          3.174460   \n",
      "3  27                 0                            0          2.171991   \n",
      "4  34                 0                            0          1.936116   \n",
      "\n",
      "   bill_avg  reamining_contract  service_failure_count  download_avg  \\\n",
      "0  0.458372           -0.906023                      0     -0.556631   \n",
      "1 -1.433376           -0.174330                      0     -0.689440   \n",
      "2 -0.222657           -1.144248                      0     -0.472835   \n",
      "3  0.155692           -0.174330                      1     -0.689440   \n",
      "4 -1.433376           -0.174330                      0     -0.689440   \n",
      "\n",
      "   upload_avg  download_over_limit  churn  \n",
      "0   -0.192060                    0      0  \n",
      "1   -0.426895                    0      1  \n",
      "2   -0.335003                    0      1  \n",
      "3   -0.426895                    0      1  \n",
      "4   -0.426895                    0      1  \n"
     ]
    }
   ],
   "source": [
    "from sklearn.preprocessing import StandardScaler\n",
    "\n",
    "#Визначення числових змінних\n",
    "numerical_columns = ['subscription_age', 'bill_avg', 'reamining_contract', 'download_avg', 'upload_avg']\n",
    "\n",
    "#Ініціалізація StandardScaler\n",
    "scaler = StandardScaler()\n",
    "\n",
    "#Стандартизація\n",
    "data[numerical_columns] = scaler.fit_transform(data[numerical_columns])\n",
    "\n",
    "#Вивід результату\n",
    "print(data.head())"
   ]
  },
  {
   "cell_type": "code",
   "execution_count": 21,
   "metadata": {
    "colab": {
     "base_uri": "https://localhost:8080/"
    },
    "id": "6T1KWaoj3bWR",
    "outputId": "8df2f1a6-adac-4761-bf52-a0055062e3da"
   },
   "outputs": [
    {
     "name": "stdout",
     "output_type": "stream",
     "text": [
      "subscription_age      0.000000e+00\n",
      "bill_avg              7.864989e-18\n",
      "reamining_contract    0.000000e+00\n",
      "download_avg          1.101098e-17\n",
      "upload_avg            3.145995e-17\n",
      "dtype: float64\n",
      "subscription_age      1.000007\n",
      "bill_avg              1.000007\n",
      "reamining_contract    1.000007\n",
      "download_avg          1.000007\n",
      "upload_avg            1.000007\n",
      "dtype: float64\n"
     ]
    }
   ],
   "source": [
    "# Перевірка правильності\n",
    "print(data[numerical_columns].mean()) #Середнє значення\n",
    "print(data[numerical_columns].std()) #Стандартне відхилення"
   ]
  },
  {
   "cell_type": "code",
   "execution_count": 23,
   "metadata": {},
   "outputs": [
    {
     "name": "stdout",
     "output_type": "stream",
     "text": [
      "Параметри StandardScaler збережено у файл: scaler.pkl\n"
     ]
    }
   ],
   "source": [
    "# Збереження параметрів StandardScaler для подальшого використання\n",
    "scaler_path = 'scaler.pkl'\n",
    "joblib.dump(scaler, scaler_path)\n",
    "print(f\"Параметри StandardScaler збережено у файл: {scaler_path}\")"
   ]
  },
  {
   "cell_type": "code",
   "execution_count": 25,
   "metadata": {
    "id": "5fM5zdCP6-QS"
   },
   "outputs": [],
   "source": [
    "#Збереження підготовлених данних\n",
    "data.to_csv('processed_data.csv', index=False)"
   ]
  }
 ],
 "metadata": {
  "colab": {
   "provenance": []
  },
  "kernelspec": {
   "display_name": "Python 3 (ipykernel)",
   "language": "python",
   "name": "python3"
  },
  "language_info": {
   "codemirror_mode": {
    "name": "ipython",
    "version": 3
   },
   "file_extension": ".py",
   "mimetype": "text/x-python",
   "name": "python",
   "nbconvert_exporter": "python",
   "pygments_lexer": "ipython3",
   "version": "3.12.4"
  }
 },
 "nbformat": 4,
 "nbformat_minor": 4
}
