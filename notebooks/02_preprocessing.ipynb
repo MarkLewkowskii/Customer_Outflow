{
  "nbformat": 4,
  "nbformat_minor": 0,
  "metadata": {
    "colab": {
      "provenance": []
    },
    "kernelspec": {
      "name": "python3",
      "display_name": "Python 3"
    },
    "language_info": {
      "name": "python"
    }
  },
  "cells": [
    {
      "cell_type": "code",
      "execution_count": null,
      "metadata": {
        "colab": {
          "base_uri": "https://localhost:8080/"
        },
        "id": "KgflQI50C4ws",
        "outputId": "f5597cf9-d1b3-4aaa-cd76-1817f108c3c7",
        "collapsed": true
      },
      "outputs": [
        {
          "output_type": "stream",
          "name": "stdout",
          "text": [
            "<class 'pandas.core.frame.DataFrame'>\n",
            "RangeIndex: 72274 entries, 0 to 72273\n",
            "Data columns (total 11 columns):\n",
            " #   Column                       Non-Null Count  Dtype  \n",
            "---  ------                       --------------  -----  \n",
            " 0   id                           72274 non-null  int64  \n",
            " 1   is_tv_subscriber             72274 non-null  int64  \n",
            " 2   is_movie_package_subscriber  72274 non-null  int64  \n",
            " 3   subscription_age             72274 non-null  float64\n",
            " 4   bill_avg                     72274 non-null  int64  \n",
            " 5   reamining_contract           50702 non-null  float64\n",
            " 6   service_failure_count        72274 non-null  int64  \n",
            " 7   download_avg                 71893 non-null  float64\n",
            " 8   upload_avg                   71893 non-null  float64\n",
            " 9   download_over_limit          72274 non-null  int64  \n",
            " 10  churn                        72274 non-null  int64  \n",
            "dtypes: float64(4), int64(7)\n",
            "memory usage: 6.1 MB\n"
          ]
        },
        {
          "output_type": "execute_result",
          "data": {
            "text/plain": [
              "(None,\n",
              "    id  is_tv_subscriber  is_movie_package_subscriber  subscription_age  \\\n",
              " 0  15                 1                            0             11.95   \n",
              " 1  18                 0                            0              8.22   \n",
              " 2  23                 1                            0              8.91   \n",
              " 3  27                 0                            0              6.87   \n",
              " 4  34                 0                            0              6.39   \n",
              " \n",
              "    bill_avg  reamining_contract  service_failure_count  download_avg  \\\n",
              " 0        25                0.14                      0           8.4   \n",
              " 1         0                 NaN                      0           0.0   \n",
              " 2        16                0.00                      0          13.7   \n",
              " 3        21                 NaN                      1           0.0   \n",
              " 4         0                 NaN                      0           0.0   \n",
              " \n",
              "    upload_avg  download_over_limit  churn  \n",
              " 0         2.3                    0      0  \n",
              " 1         0.0                    0      1  \n",
              " 2         0.9                    0      1  \n",
              " 3         0.0                    0      1  \n",
              " 4         0.0                    0      1  )"
            ]
          },
          "metadata": {},
          "execution_count": 2
        }
      ],
      "source": [
        "import pandas as pd\n",
        "\n",
        "file_path = '/content/internet_service_churn.csv'\n",
        "data = pd.read_csv(file_path)\n",
        "\n",
        "data.info(), data.head()\n"
      ]
    },
    {
      "cell_type": "markdown",
      "source": [
        "***Обробка пропусків***"
      ],
      "metadata": {
        "id": "A9JQDT98pRSp"
      }
    },
    {
      "cell_type": "code",
      "source": [
        "#Аналіз відсутніх значень у наборі даних\n",
        "missing_data = data.isnull().sum()\n",
        "\n",
        "#Обчислення відсотка відсутніх значень для кожного стовпчика\n",
        "missing_percentage = (missing_data / len(data)) * 100\n",
        "\n",
        "#Відображення стовпців з відсутніми значеннями та їх відсотки\n",
        "missing_info = pd.DataFrame({\"Missing Values\": missing_data, \"Percentage\": missing_percentage})\n",
        "missing_info[missing_info[\"Missing Values\"] > 0]"
      ],
      "metadata": {
        "colab": {
          "base_uri": "https://localhost:8080/",
          "height": 144
        },
        "id": "swEotJOupngj",
        "outputId": "a80b7398-b6c4-4741-ee0f-333d04e92eda"
      },
      "execution_count": null,
      "outputs": [
        {
          "output_type": "execute_result",
          "data": {
            "text/plain": [
              "                    Missing Values  Percentage\n",
              "reamining_contract           21572   29.847525\n",
              "download_avg                   381    0.527161\n",
              "upload_avg                     381    0.527161"
            ],
            "text/html": [
              "\n",
              "  <div id=\"df-76f53681-0c0a-4244-bb2a-b74849a54e73\" class=\"colab-df-container\">\n",
              "    <div>\n",
              "<style scoped>\n",
              "    .dataframe tbody tr th:only-of-type {\n",
              "        vertical-align: middle;\n",
              "    }\n",
              "\n",
              "    .dataframe tbody tr th {\n",
              "        vertical-align: top;\n",
              "    }\n",
              "\n",
              "    .dataframe thead th {\n",
              "        text-align: right;\n",
              "    }\n",
              "</style>\n",
              "<table border=\"1\" class=\"dataframe\">\n",
              "  <thead>\n",
              "    <tr style=\"text-align: right;\">\n",
              "      <th></th>\n",
              "      <th>Missing Values</th>\n",
              "      <th>Percentage</th>\n",
              "    </tr>\n",
              "  </thead>\n",
              "  <tbody>\n",
              "    <tr>\n",
              "      <th>reamining_contract</th>\n",
              "      <td>21572</td>\n",
              "      <td>29.847525</td>\n",
              "    </tr>\n",
              "    <tr>\n",
              "      <th>download_avg</th>\n",
              "      <td>381</td>\n",
              "      <td>0.527161</td>\n",
              "    </tr>\n",
              "    <tr>\n",
              "      <th>upload_avg</th>\n",
              "      <td>381</td>\n",
              "      <td>0.527161</td>\n",
              "    </tr>\n",
              "  </tbody>\n",
              "</table>\n",
              "</div>\n",
              "    <div class=\"colab-df-buttons\">\n",
              "\n",
              "  <div class=\"colab-df-container\">\n",
              "    <button class=\"colab-df-convert\" onclick=\"convertToInteractive('df-76f53681-0c0a-4244-bb2a-b74849a54e73')\"\n",
              "            title=\"Convert this dataframe to an interactive table.\"\n",
              "            style=\"display:none;\">\n",
              "\n",
              "  <svg xmlns=\"http://www.w3.org/2000/svg\" height=\"24px\" viewBox=\"0 -960 960 960\">\n",
              "    <path d=\"M120-120v-720h720v720H120Zm60-500h600v-160H180v160Zm220 220h160v-160H400v160Zm0 220h160v-160H400v160ZM180-400h160v-160H180v160Zm440 0h160v-160H620v160ZM180-180h160v-160H180v160Zm440 0h160v-160H620v160Z\"/>\n",
              "  </svg>\n",
              "    </button>\n",
              "\n",
              "  <style>\n",
              "    .colab-df-container {\n",
              "      display:flex;\n",
              "      gap: 12px;\n",
              "    }\n",
              "\n",
              "    .colab-df-convert {\n",
              "      background-color: #E8F0FE;\n",
              "      border: none;\n",
              "      border-radius: 50%;\n",
              "      cursor: pointer;\n",
              "      display: none;\n",
              "      fill: #1967D2;\n",
              "      height: 32px;\n",
              "      padding: 0 0 0 0;\n",
              "      width: 32px;\n",
              "    }\n",
              "\n",
              "    .colab-df-convert:hover {\n",
              "      background-color: #E2EBFA;\n",
              "      box-shadow: 0px 1px 2px rgba(60, 64, 67, 0.3), 0px 1px 3px 1px rgba(60, 64, 67, 0.15);\n",
              "      fill: #174EA6;\n",
              "    }\n",
              "\n",
              "    .colab-df-buttons div {\n",
              "      margin-bottom: 4px;\n",
              "    }\n",
              "\n",
              "    [theme=dark] .colab-df-convert {\n",
              "      background-color: #3B4455;\n",
              "      fill: #D2E3FC;\n",
              "    }\n",
              "\n",
              "    [theme=dark] .colab-df-convert:hover {\n",
              "      background-color: #434B5C;\n",
              "      box-shadow: 0px 1px 3px 1px rgba(0, 0, 0, 0.15);\n",
              "      filter: drop-shadow(0px 1px 2px rgba(0, 0, 0, 0.3));\n",
              "      fill: #FFFFFF;\n",
              "    }\n",
              "  </style>\n",
              "\n",
              "    <script>\n",
              "      const buttonEl =\n",
              "        document.querySelector('#df-76f53681-0c0a-4244-bb2a-b74849a54e73 button.colab-df-convert');\n",
              "      buttonEl.style.display =\n",
              "        google.colab.kernel.accessAllowed ? 'block' : 'none';\n",
              "\n",
              "      async function convertToInteractive(key) {\n",
              "        const element = document.querySelector('#df-76f53681-0c0a-4244-bb2a-b74849a54e73');\n",
              "        const dataTable =\n",
              "          await google.colab.kernel.invokeFunction('convertToInteractive',\n",
              "                                                    [key], {});\n",
              "        if (!dataTable) return;\n",
              "\n",
              "        const docLinkHtml = 'Like what you see? Visit the ' +\n",
              "          '<a target=\"_blank\" href=https://colab.research.google.com/notebooks/data_table.ipynb>data table notebook</a>'\n",
              "          + ' to learn more about interactive tables.';\n",
              "        element.innerHTML = '';\n",
              "        dataTable['output_type'] = 'display_data';\n",
              "        await google.colab.output.renderOutput(dataTable, element);\n",
              "        const docLink = document.createElement('div');\n",
              "        docLink.innerHTML = docLinkHtml;\n",
              "        element.appendChild(docLink);\n",
              "      }\n",
              "    </script>\n",
              "  </div>\n",
              "\n",
              "\n",
              "<div id=\"df-d92dfe58-0f90-4806-97d7-3327c1f7f3b2\">\n",
              "  <button class=\"colab-df-quickchart\" onclick=\"quickchart('df-d92dfe58-0f90-4806-97d7-3327c1f7f3b2')\"\n",
              "            title=\"Suggest charts\"\n",
              "            style=\"display:none;\">\n",
              "\n",
              "<svg xmlns=\"http://www.w3.org/2000/svg\" height=\"24px\"viewBox=\"0 0 24 24\"\n",
              "     width=\"24px\">\n",
              "    <g>\n",
              "        <path d=\"M19 3H5c-1.1 0-2 .9-2 2v14c0 1.1.9 2 2 2h14c1.1 0 2-.9 2-2V5c0-1.1-.9-2-2-2zM9 17H7v-7h2v7zm4 0h-2V7h2v10zm4 0h-2v-4h2v4z\"/>\n",
              "    </g>\n",
              "</svg>\n",
              "  </button>\n",
              "\n",
              "<style>\n",
              "  .colab-df-quickchart {\n",
              "      --bg-color: #E8F0FE;\n",
              "      --fill-color: #1967D2;\n",
              "      --hover-bg-color: #E2EBFA;\n",
              "      --hover-fill-color: #174EA6;\n",
              "      --disabled-fill-color: #AAA;\n",
              "      --disabled-bg-color: #DDD;\n",
              "  }\n",
              "\n",
              "  [theme=dark] .colab-df-quickchart {\n",
              "      --bg-color: #3B4455;\n",
              "      --fill-color: #D2E3FC;\n",
              "      --hover-bg-color: #434B5C;\n",
              "      --hover-fill-color: #FFFFFF;\n",
              "      --disabled-bg-color: #3B4455;\n",
              "      --disabled-fill-color: #666;\n",
              "  }\n",
              "\n",
              "  .colab-df-quickchart {\n",
              "    background-color: var(--bg-color);\n",
              "    border: none;\n",
              "    border-radius: 50%;\n",
              "    cursor: pointer;\n",
              "    display: none;\n",
              "    fill: var(--fill-color);\n",
              "    height: 32px;\n",
              "    padding: 0;\n",
              "    width: 32px;\n",
              "  }\n",
              "\n",
              "  .colab-df-quickchart:hover {\n",
              "    background-color: var(--hover-bg-color);\n",
              "    box-shadow: 0 1px 2px rgba(60, 64, 67, 0.3), 0 1px 3px 1px rgba(60, 64, 67, 0.15);\n",
              "    fill: var(--button-hover-fill-color);\n",
              "  }\n",
              "\n",
              "  .colab-df-quickchart-complete:disabled,\n",
              "  .colab-df-quickchart-complete:disabled:hover {\n",
              "    background-color: var(--disabled-bg-color);\n",
              "    fill: var(--disabled-fill-color);\n",
              "    box-shadow: none;\n",
              "  }\n",
              "\n",
              "  .colab-df-spinner {\n",
              "    border: 2px solid var(--fill-color);\n",
              "    border-color: transparent;\n",
              "    border-bottom-color: var(--fill-color);\n",
              "    animation:\n",
              "      spin 1s steps(1) infinite;\n",
              "  }\n",
              "\n",
              "  @keyframes spin {\n",
              "    0% {\n",
              "      border-color: transparent;\n",
              "      border-bottom-color: var(--fill-color);\n",
              "      border-left-color: var(--fill-color);\n",
              "    }\n",
              "    20% {\n",
              "      border-color: transparent;\n",
              "      border-left-color: var(--fill-color);\n",
              "      border-top-color: var(--fill-color);\n",
              "    }\n",
              "    30% {\n",
              "      border-color: transparent;\n",
              "      border-left-color: var(--fill-color);\n",
              "      border-top-color: var(--fill-color);\n",
              "      border-right-color: var(--fill-color);\n",
              "    }\n",
              "    40% {\n",
              "      border-color: transparent;\n",
              "      border-right-color: var(--fill-color);\n",
              "      border-top-color: var(--fill-color);\n",
              "    }\n",
              "    60% {\n",
              "      border-color: transparent;\n",
              "      border-right-color: var(--fill-color);\n",
              "    }\n",
              "    80% {\n",
              "      border-color: transparent;\n",
              "      border-right-color: var(--fill-color);\n",
              "      border-bottom-color: var(--fill-color);\n",
              "    }\n",
              "    90% {\n",
              "      border-color: transparent;\n",
              "      border-bottom-color: var(--fill-color);\n",
              "    }\n",
              "  }\n",
              "</style>\n",
              "\n",
              "  <script>\n",
              "    async function quickchart(key) {\n",
              "      const quickchartButtonEl =\n",
              "        document.querySelector('#' + key + ' button');\n",
              "      quickchartButtonEl.disabled = true;  // To prevent multiple clicks.\n",
              "      quickchartButtonEl.classList.add('colab-df-spinner');\n",
              "      try {\n",
              "        const charts = await google.colab.kernel.invokeFunction(\n",
              "            'suggestCharts', [key], {});\n",
              "      } catch (error) {\n",
              "        console.error('Error during call to suggestCharts:', error);\n",
              "      }\n",
              "      quickchartButtonEl.classList.remove('colab-df-spinner');\n",
              "      quickchartButtonEl.classList.add('colab-df-quickchart-complete');\n",
              "    }\n",
              "    (() => {\n",
              "      let quickchartButtonEl =\n",
              "        document.querySelector('#df-d92dfe58-0f90-4806-97d7-3327c1f7f3b2 button');\n",
              "      quickchartButtonEl.style.display =\n",
              "        google.colab.kernel.accessAllowed ? 'block' : 'none';\n",
              "    })();\n",
              "  </script>\n",
              "</div>\n",
              "    </div>\n",
              "  </div>\n"
            ],
            "application/vnd.google.colaboratory.intrinsic+json": {
              "type": "dataframe",
              "summary": "{\n  \"name\": \"missing_info[missing_info[\\\"Missing Values\\\"] > 0]\",\n  \"rows\": 3,\n  \"fields\": [\n    {\n      \"column\": \"Missing Values\",\n      \"properties\": {\n        \"dtype\": \"number\",\n        \"std\": 12234,\n        \"min\": 381,\n        \"max\": 21572,\n        \"num_unique_values\": 2,\n        \"samples\": [\n          381,\n          21572\n        ],\n        \"semantic_type\": \"\",\n        \"description\": \"\"\n      }\n    },\n    {\n      \"column\": \"Percentage\",\n      \"properties\": {\n        \"dtype\": \"number\",\n        \"std\": 16.92812014610698,\n        \"min\": 0.5271605279907021,\n        \"max\": 29.847524697678278,\n        \"num_unique_values\": 2,\n        \"samples\": [\n          0.5271605279907021,\n          29.847524697678278\n        ],\n        \"semantic_type\": \"\",\n        \"description\": \"\"\n      }\n    }\n  ]\n}"
            }
          },
          "metadata": {},
          "execution_count": 3
        }
      ]
    },
    {
      "cell_type": "code",
      "source": [
        "#Заповнюємо пропуски у reamining_contract\n",
        "data['reamining_contract'].fillna(data['reamining_contract'].median(), inplace=True)\n",
        "\n",
        "#Заповнити відсутні значення для 'download_avg' та 'upload_avg' відповідними медіанами\n",
        "data['download_avg'].fillna(data['download_avg'].median(), inplace=True)\n",
        "data['upload_avg'].fillna(data['upload_avg'].median(), inplace=True)\n",
        "\n",
        "#Перевірка, що відсутніх значень більше немає\n",
        "data.isnull().sum()\n",
        "\n",
        "\"\"\"\n",
        "Було обрано заповнення медіанами, тому що можна зберегти дані без значного внеску.\n",
        "Якщо б я їх видалив то зламалася б логіка, бо це б означало, що клієнт не має контратку або дані не було зібрано\n",
        "\"\"\""
      ],
      "metadata": {
        "colab": {
          "base_uri": "https://localhost:8080/",
          "height": 400
        },
        "collapsed": true,
        "id": "_-F_omTmqKzx",
        "outputId": "1a78875b-4dbf-4147-86ba-d916ab466491"
      },
      "execution_count": null,
      "outputs": [
        {
          "output_type": "stream",
          "name": "stderr",
          "text": [
            "<ipython-input-4-5b41bb3ea2c8>:2: FutureWarning: A value is trying to be set on a copy of a DataFrame or Series through chained assignment using an inplace method.\n",
            "The behavior will change in pandas 3.0. This inplace method will never work because the intermediate object on which we are setting values always behaves as a copy.\n",
            "\n",
            "For example, when doing 'df[col].method(value, inplace=True)', try using 'df.method({col: value}, inplace=True)' or df[col] = df[col].method(value) instead, to perform the operation inplace on the original object.\n",
            "\n",
            "\n",
            "  data['reamining_contract'].fillna(data['reamining_contract'].median(), inplace=True)\n",
            "<ipython-input-4-5b41bb3ea2c8>:5: FutureWarning: A value is trying to be set on a copy of a DataFrame or Series through chained assignment using an inplace method.\n",
            "The behavior will change in pandas 3.0. This inplace method will never work because the intermediate object on which we are setting values always behaves as a copy.\n",
            "\n",
            "For example, when doing 'df[col].method(value, inplace=True)', try using 'df.method({col: value}, inplace=True)' or df[col] = df[col].method(value) instead, to perform the operation inplace on the original object.\n",
            "\n",
            "\n",
            "  data['download_avg'].fillna(data['download_avg'].median(), inplace=True)\n",
            "<ipython-input-4-5b41bb3ea2c8>:6: FutureWarning: A value is trying to be set on a copy of a DataFrame or Series through chained assignment using an inplace method.\n",
            "The behavior will change in pandas 3.0. This inplace method will never work because the intermediate object on which we are setting values always behaves as a copy.\n",
            "\n",
            "For example, when doing 'df[col].method(value, inplace=True)', try using 'df.method({col: value}, inplace=True)' or df[col] = df[col].method(value) instead, to perform the operation inplace on the original object.\n",
            "\n",
            "\n",
            "  data['upload_avg'].fillna(data['upload_avg'].median(), inplace=True)\n"
          ]
        },
        {
          "output_type": "execute_result",
          "data": {
            "text/plain": [
              "'\\nБуло обрано заповнення медіанами, тому що можна зберегти дані без значного внеску.\\nЯкщо б я їх видалив то зламалася б логіка, бо це б означало, що клієнт не має контратку або дані не було зібрано\\n'"
            ],
            "application/vnd.google.colaboratory.intrinsic+json": {
              "type": "string"
            }
          },
          "metadata": {},
          "execution_count": 4
        }
      ]
    },
    {
      "cell_type": "markdown",
      "source": [
        "***Закодувати категоріальні змінні***"
      ],
      "metadata": {
        "id": "jKXKezpjyS1Q"
      }
    },
    {
      "cell_type": "code",
      "source": [
        "\"\"\"\n",
        "У датасеті всі потенційно категоріальні змінні is_tv_subscriber, is_movie_package_subscriber, download_over_limit, churn вже представлені як числові бінарні змінні 0 або 1.\n",
        "Це означає, що вони не потребують додаткового кодування.\n",
        "\"\"\""
      ],
      "metadata": {
        "id": "1zcHrK_6vqRi"
      },
      "execution_count": null,
      "outputs": []
    },
    {
      "cell_type": "markdown",
      "source": [
        "***Провести нормалізацію/стандартизацію числових ознак***"
      ],
      "metadata": {
        "id": "MKKdsKUp2zLZ"
      }
    },
    {
      "cell_type": "code",
      "source": [
        "\"\"\"\n",
        "У нашому випадку стандартизація буде більш доречною для забезпечення збалансованості вкладу різних ознак\n",
        "\"\"\""
      ],
      "metadata": {
        "id": "eu5tyyctz_KP"
      },
      "execution_count": null,
      "outputs": []
    },
    {
      "cell_type": "code",
      "source": [
        "from sklearn.preprocessing import StandardScaler\n",
        "\n",
        "#Визначення числових змінних\n",
        "numerical_columns = ['subscription_age', 'bill_avg', 'reamining_contract', 'download_avg', 'upload_avg']\n",
        "\n",
        "#Ініціалізація StandardScaler\n",
        "scaler = StandardScaler()\n",
        "\n",
        "#Стандартизація\n",
        "data[numerical_columns] = scaler.fit_transform(data[numerical_columns])\n",
        "\n",
        "#Вивід результату\n",
        "print(data.head())"
      ],
      "metadata": {
        "colab": {
          "base_uri": "https://localhost:8080/"
        },
        "id": "Zim0lsIf3HUb",
        "outputId": "d2fc1bc0-29f8-4ed0-cee6-f4772f98bd2a"
      },
      "execution_count": null,
      "outputs": [
        {
          "output_type": "stream",
          "name": "stdout",
          "text": [
            "   id  is_tv_subscriber  is_movie_package_subscriber  subscription_age  \\\n",
            "0  15                 1                            0          4.668335   \n",
            "1  18                 0                            0          2.835389   \n",
            "2  23                 1                            0          3.174460   \n",
            "3  27                 0                            0          2.171991   \n",
            "4  34                 0                            0          1.936116   \n",
            "\n",
            "   bill_avg  reamining_contract  service_failure_count  download_avg  \\\n",
            "0  0.458372           -0.906023                      0     -0.556631   \n",
            "1 -1.433376           -0.174330                      0     -0.689440   \n",
            "2 -0.222657           -1.144248                      0     -0.472835   \n",
            "3  0.155692           -0.174330                      1     -0.689440   \n",
            "4 -1.433376           -0.174330                      0     -0.689440   \n",
            "\n",
            "   upload_avg  download_over_limit  churn  \n",
            "0   -0.192060                    0      0  \n",
            "1   -0.426895                    0      1  \n",
            "2   -0.335003                    0      1  \n",
            "3   -0.426895                    0      1  \n",
            "4   -0.426895                    0      1  \n"
          ]
        }
      ]
    },
    {
      "cell_type": "code",
      "source": [
        "\"\"\"\n",
        "Перевірка правильності\n",
        "\"\"\"\n",
        "\n",
        "print(data[numerical_columns].mean()) #Середнє значення\n",
        "print(data[numerical_columns].std()) #Стандартне відхилення"
      ],
      "metadata": {
        "colab": {
          "base_uri": "https://localhost:8080/"
        },
        "id": "6T1KWaoj3bWR",
        "outputId": "8df2f1a6-adac-4761-bf52-a0055062e3da"
      },
      "execution_count": null,
      "outputs": [
        {
          "output_type": "stream",
          "name": "stdout",
          "text": [
            "subscription_age      0.000000e+00\n",
            "bill_avg              7.864989e-18\n",
            "reamining_contract    0.000000e+00\n",
            "download_avg          1.101098e-17\n",
            "upload_avg            3.145995e-17\n",
            "dtype: float64\n",
            "subscription_age      1.000007\n",
            "bill_avg              1.000007\n",
            "reamining_contract    1.000007\n",
            "download_avg          1.000007\n",
            "upload_avg            1.000007\n",
            "dtype: float64\n"
          ]
        }
      ]
    },
    {
      "cell_type": "code",
      "source": [
        "data.to_csv('processed_data.csv', index=False)"
      ],
      "metadata": {
        "id": "5fM5zdCP6-QS"
      },
      "execution_count": null,
      "outputs": []
    },
    {
      "cell_type": "markdown",
      "source": [
        "***Збереження репорту про зроблену працю***"
      ],
      "metadata": {
        "id": "walcWuYJLHsP"
      }
    },
    {
      "cell_type": "code",
      "source": [
        "# Вкажіть текст звіту в змінній report_text\n",
        "report_text = f'''Обробка відсутніх значень:\n",
        "reamining_contract: відсутні значення заповнені медіанним значенням.\n",
        "download_avg: відсутні значення заповнені медіанним значенням.\n",
        "upload_avg: відсутні значення заповнені медіанним значенням.\n",
        "\n",
        "Кодування категоріальних змінних:\n",
        "Змінні is_tv_subscriber, is_movie_package_subscriber, download_over_limit та churn вже мали бінарний формат (0/1). Додаткове кодування не виконувалося.\n",
        "\n",
        "Стандартизація числових ознак:\n",
        "На наступні стовпці було застосовано StandardScaler, щоб забезпечити середнє значення = 0 і стандартне відхилення = 1:\n",
        "subscription_age\n",
        "bill_avg\n",
        "reamining_contract\n",
        "download_avg\n",
        "upload_avg\n",
        "\n",
        "Перевірка:\n",
        "Середнє значення числових змінних після стандартизації: ~0.\n",
        "Стандартне відхилення числових змінних після стандартизації: ~1.\n",
        "Оброблені дані збережені у файл: processed_data.csv'''\n",
        "\n",
        "# Збереження тексту у файл report_table_work.txt\n",
        "with open('report_table_work.txt', 'w') as f:\n",
        "    f.write(report_text)\n",
        "\n",
        "print(\"Файл збережено як report_table_work.txt\")\n"
      ],
      "metadata": {
        "colab": {
          "base_uri": "https://localhost:8080/"
        },
        "id": "yewyKaZRMPuO",
        "outputId": "a46d90d5-c1c2-42bf-8259-659ded408f8a"
      },
      "execution_count": null,
      "outputs": [
        {
          "output_type": "stream",
          "name": "stdout",
          "text": [
            "Файл збережено як report_table_work.txt\n"
          ]
        }
      ]
    }
  ]
}