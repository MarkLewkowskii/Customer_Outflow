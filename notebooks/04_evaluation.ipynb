{
 "cells": [
  {
   "cell_type": "markdown",
   "metadata": {},
   "source": [
    "# Оцінка моделей"
   ]
  },
  {
   "cell_type": "code",
   "execution_count": 63,
   "metadata": {},
   "outputs": [],
   "source": [
    "import pandas as pd\n",
    "import os\n",
    "from sklearn.metrics import classification_report\n",
    "from joblib import load"
   ]
  },
  {
   "cell_type": "markdown",
   "metadata": {},
   "source": [
    "Зчитування файлу processed_data.csv."
   ]
  },
  {
   "cell_type": "code",
   "execution_count": 64,
   "metadata": {},
   "outputs": [],
   "source": [
    "df = pd.read_csv(\"../data/processed/processed_data.csv\")"
   ]
  },
  {
   "cell_type": "code",
   "execution_count": 65,
   "metadata": {},
   "outputs": [],
   "source": [
    "X = df[df.columns[1:-1]]\n",
    "y = df[df.columns[-1:]].values.flatten()"
   ]
  },
  {
   "cell_type": "markdown",
   "metadata": {},
   "source": [
    "__Функція для виведення класифікаційного звіту__"
   ]
  },
  {
   "cell_type": "code",
   "execution_count": 66,
   "metadata": {},
   "outputs": [],
   "source": [
    "def model_classification_report(model, model_name: str, X_test, y_test):\n",
    "    y_pred = model.predict(X_test)\n",
    "    print(\n",
    "        f\"Класифікаційний звіт для моделі {model_name}:\\n\",\n",
    "        classification_report(y_test, y_pred),\n",
    "    )"
   ]
  },
  {
   "cell_type": "markdown",
   "metadata": {},
   "source": [
    "Завантаження моделей."
   ]
  },
  {
   "cell_type": "code",
   "execution_count": 67,
   "metadata": {},
   "outputs": [],
   "source": [
    "model_RF_path = \"../models/model_RandomForest.joblib\"\n",
    "model_HGB_path = \"../models/model_HistGradientBoosting.joblib\"\n",
    "model_GB_path = \"../models/model_GradientBoosting.joblib\"\n",
    "model_LR_path = \"../models/model_LogisticRegression.joblib\""
   ]
  },
  {
   "cell_type": "code",
   "execution_count": 68,
   "metadata": {},
   "outputs": [],
   "source": [
    "model_RF = load(model_RF_path)\n",
    "model_HGB = load(model_HGB_path)\n",
    "model_GB = load(model_GB_path)\n",
    "model_LR = load(model_LR_path)"
   ]
  },
  {
   "cell_type": "markdown",
   "metadata": {},
   "source": [
    "__Модель Random Forest__"
   ]
  },
  {
   "cell_type": "code",
   "execution_count": 69,
   "metadata": {},
   "outputs": [
    {
     "name": "stdout",
     "output_type": "stream",
     "text": [
      "Класифікаційний звіт для моделі Random Forest:\n",
      "               precision    recall  f1-score   support\n",
      "\n",
      "           0       0.98      0.98      0.98     32224\n",
      "           1       0.98      0.98      0.98     40050\n",
      "\n",
      "    accuracy                           0.98     72274\n",
      "   macro avg       0.98      0.98      0.98     72274\n",
      "weighted avg       0.98      0.98      0.98     72274\n",
      "\n",
      "Розмір моделі: 54.34 MB\n"
     ]
    }
   ],
   "source": [
    "model_classification_report(model_RF, \"Random Forest\", X, y)\n",
    "\n",
    "file_size = os.path.getsize(model_RF_path) / (1024 * 1024)  # Розмір у мегабайтах\n",
    "print(f\"Розмір моделі: {file_size:.2f} MB\")"
   ]
  },
  {
   "cell_type": "markdown",
   "metadata": {},
   "source": [
    "__Модель Histogram-based Gradient Boosting Classification Tree__"
   ]
  },
  {
   "cell_type": "code",
   "execution_count": 70,
   "metadata": {},
   "outputs": [
    {
     "name": "stdout",
     "output_type": "stream",
     "text": [
      "Класифікаційний звіт для моделі Histogram-based Gradient Boosting Classification Tree:\n",
      "               precision    recall  f1-score   support\n",
      "\n",
      "           0       0.95      0.96      0.95     32224\n",
      "           1       0.97      0.96      0.96     40050\n",
      "\n",
      "    accuracy                           0.96     72274\n",
      "   macro avg       0.96      0.96      0.96     72274\n",
      "weighted avg       0.96      0.96      0.96     72274\n",
      "\n",
      "Розмір моделі: 1.88 MB\n"
     ]
    }
   ],
   "source": [
    "model_classification_report(\n",
    "    model_HGB, \"Histogram-based Gradient Boosting Classification Tree\", X, y\n",
    ")\n",
    "\n",
    "file_size = os.path.getsize(model_HGB_path) / (1024 * 1024)  # Розмір у мегабайтах\n",
    "print(f\"Розмір моделі: {file_size:.2f} MB\")"
   ]
  },
  {
   "cell_type": "markdown",
   "metadata": {},
   "source": [
    "__Модель Gradient Boosting__"
   ]
  },
  {
   "cell_type": "code",
   "execution_count": 71,
   "metadata": {},
   "outputs": [
    {
     "name": "stdout",
     "output_type": "stream",
     "text": [
      "Класифікаційний звіт для моделі Gradient Boosting:\n",
      "               precision    recall  f1-score   support\n",
      "\n",
      "           0       0.93      0.95      0.94     32224\n",
      "           1       0.96      0.94      0.95     40050\n",
      "\n",
      "    accuracy                           0.95     72274\n",
      "   macro avg       0.95      0.95      0.95     72274\n",
      "weighted avg       0.95      0.95      0.95     72274\n",
      "\n",
      "Розмір моделі: 0.88 MB\n"
     ]
    }
   ],
   "source": [
    "model_classification_report(model_GB, \"Gradient Boosting\", X, y)\n",
    "\n",
    "file_size = os.path.getsize(model_GB_path) / (1024 * 1024)  # Розмір у мегабайтах\n",
    "print(f\"Розмір моделі: {file_size:.2f} MB\")"
   ]
  },
  {
   "cell_type": "markdown",
   "metadata": {},
   "source": [
    "__Модель Logistic Regression__"
   ]
  },
  {
   "cell_type": "code",
   "execution_count": 72,
   "metadata": {},
   "outputs": [
    {
     "name": "stdout",
     "output_type": "stream",
     "text": [
      "Класифікаційний звіт для моделі Logistic Regression:\n",
      "               precision    recall  f1-score   support\n",
      "\n",
      "           0       0.84      0.77      0.81     32224\n",
      "           1       0.83      0.88      0.86     40050\n",
      "\n",
      "    accuracy                           0.83     72274\n",
      "   macro avg       0.84      0.83      0.83     72274\n",
      "weighted avg       0.83      0.83      0.83     72274\n",
      "\n",
      "Розмір моделі: 0.00 MB\n"
     ]
    }
   ],
   "source": [
    "model_classification_report(model_LR, \"Logistic Regression\", X, y)\n",
    "\n",
    "file_size = os.path.getsize(model_LR_path) / (1024 * 1024)  # Розмір у мегабайтах\n",
    "print(f\"Розмір моделі: {file_size:.2f} MB\")"
   ]
  }
 ],
 "metadata": {
  "kernelspec": {
   "display_name": "customer-outflow-LzZA1A1U-py3.12",
   "language": "python",
   "name": "python3"
  },
  "language_info": {
   "codemirror_mode": {
    "name": "ipython",
    "version": 3
   },
   "file_extension": ".py",
   "mimetype": "text/x-python",
   "name": "python",
   "nbconvert_exporter": "python",
   "pygments_lexer": "ipython3",
   "version": "3.12.3"
  }
 },
 "nbformat": 4,
 "nbformat_minor": 2
}
