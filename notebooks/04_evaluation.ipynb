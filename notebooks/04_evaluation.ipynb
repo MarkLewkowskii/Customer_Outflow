{
 "cells": [
  {
   "cell_type": "markdown",
   "metadata": {},
   "source": [
    "# Оцінка моделей"
   ]
  },
  {
   "cell_type": "code",
   "execution_count": 1,
   "metadata": {},
   "outputs": [
    {
     "name": "stdout",
     "output_type": "stream",
     "text": [
      "Requirement already satisfied: pandas in /home/kagev/.cache/pypoetry/virtualenvs/customer-outflow-dzA22ZuN-py3.12/lib/python3.12/site-packages (2.2.3)\n",
      "Requirement already satisfied: numpy>=1.26.0 in /home/kagev/.cache/pypoetry/virtualenvs/customer-outflow-dzA22ZuN-py3.12/lib/python3.12/site-packages (from pandas) (1.26.4)\n",
      "Requirement already satisfied: python-dateutil>=2.8.2 in /home/kagev/.cache/pypoetry/virtualenvs/customer-outflow-dzA22ZuN-py3.12/lib/python3.12/site-packages (from pandas) (2.9.0.post0)\n",
      "Requirement already satisfied: pytz>=2020.1 in /home/kagev/.cache/pypoetry/virtualenvs/customer-outflow-dzA22ZuN-py3.12/lib/python3.12/site-packages (from pandas) (2024.2)\n",
      "Requirement already satisfied: tzdata>=2022.7 in /home/kagev/.cache/pypoetry/virtualenvs/customer-outflow-dzA22ZuN-py3.12/lib/python3.12/site-packages (from pandas) (2024.2)\n",
      "Requirement already satisfied: six>=1.5 in /home/kagev/.cache/pypoetry/virtualenvs/customer-outflow-dzA22ZuN-py3.12/lib/python3.12/site-packages (from python-dateutil>=2.8.2->pandas) (1.17.0)\n",
      "Note: you may need to restart the kernel to use updated packages.\n"
     ]
    }
   ],
   "source": [
    "%pip install pandas\n",
    "\n",
    "import pandas as pd\n",
    "import os\n",
    "from sklearn.metrics import classification_report\n",
    "from joblib import load"
   ]
  },
  {
   "cell_type": "code",
   "execution_count": null,
   "metadata": {},
   "outputs": [],
   "source": []
  },
  {
   "cell_type": "markdown",
   "metadata": {},
   "source": [
    "Зчитування файлу processed_data.csv."
   ]
  },
  {
   "cell_type": "code",
   "execution_count": 2,
   "metadata": {},
   "outputs": [],
   "source": [
    "df = pd.read_csv(\"../data/processed/processed_data.csv\")"
   ]
  },
  {
   "cell_type": "code",
   "execution_count": 3,
   "metadata": {},
   "outputs": [],
   "source": [
    "X = df[df.columns[1:-1]]\n",
    "y = df[df.columns[-1:]].values.flatten()"
   ]
  },
  {
   "cell_type": "markdown",
   "metadata": {},
   "source": [
    "__Функція для виведення класифікаційного звіту__"
   ]
  },
  {
   "cell_type": "code",
   "execution_count": 4,
   "metadata": {},
   "outputs": [],
   "source": [
    "def model_classification_report(model, model_name: str, X_test, y_test):\n",
    "    y_pred = model.predict(X_test)\n",
    "    print(\n",
    "        f\"Класифікаційний звіт для моделі {model_name}:\\n\",\n",
    "        classification_report(y_test, y_pred),\n",
    "    )"
   ]
  },
  {
   "cell_type": "markdown",
   "metadata": {},
   "source": [
    "__Функція для виведення розміру моделі__"
   ]
  },
  {
   "cell_type": "code",
   "execution_count": 5,
   "metadata": {},
   "outputs": [],
   "source": [
    "def model_size(model_path: str):\n",
    "    size_in_bytes = os.path.getsize(model_path)\n",
    "    size_in_kb = size_in_bytes / 1024\n",
    "    size_in_mb = size_in_kb / 1024\n",
    "    print(\n",
    "        f\"Розмір моделі: {size_in_bytes} B ({size_in_kb:.2f} kB / {size_in_mb:.2f} MB)\"\n",
    "    )\n",
    "    return size_in_bytes"
   ]
  },
  {
   "cell_type": "markdown",
   "metadata": {},
   "source": [
    "Завантаження моделей."
   ]
  },
  {
   "cell_type": "code",
   "execution_count": 6,
   "metadata": {},
   "outputs": [],
   "source": [
    "model_RF_path = \"../models/model_RandomForest.joblib\"\n",
    "model_HGB_path = \"../models/model_HistGradientBoosting.joblib\"\n",
    "model_GB_path = \"../models/model_GradientBoosting.joblib\"\n",
    "model_LR_path = \"../models/model_LogisticRegression.joblib\""
   ]
  },
  {
   "cell_type": "code",
   "execution_count": 7,
   "metadata": {},
   "outputs": [],
   "source": [
    "model_RF = load(model_RF_path)\n",
    "model_HGB = load(model_HGB_path)\n",
    "model_GB = load(model_GB_path)\n",
    "model_LR = load(model_LR_path)"
   ]
  },
  {
   "cell_type": "code",
   "execution_count": 8,
   "metadata": {},
   "outputs": [],
   "source": [
    "model_RF_name = \"Random Forest\"\n",
    "model_HGB_name = \"Histogram-based Gradient Boosting Classification Tree\"\n",
    "model_GB_name = \"Gradient Boosting\"\n",
    "model_LR_name = \"Logistic Regression\""
   ]
  },
  {
   "cell_type": "markdown",
   "metadata": {},
   "source": [
    "__Модель Random Forest__"
   ]
  },
  {
   "cell_type": "code",
   "execution_count": 9,
   "metadata": {},
   "outputs": [
    {
     "name": "stdout",
     "output_type": "stream",
     "text": [
      "Класифікаційний звіт для моделі Random Forest:\n",
      "               precision    recall  f1-score   support\n",
      "\n",
      "           0       0.97      0.98      0.98     32224\n",
      "           1       0.98      0.98      0.98     40050\n",
      "\n",
      "    accuracy                           0.98     72274\n",
      "   macro avg       0.98      0.98      0.98     72274\n",
      "weighted avg       0.98      0.98      0.98     72274\n",
      "\n",
      "Розмір моделі: 57330585 B (55986.90 kB / 54.67 MB)\n"
     ]
    }
   ],
   "source": [
    "model_classification_report(model_RF, model_RF_name, X, y)\n",
    "model_RF_size = model_size(model_RF_path)"
   ]
  },
  {
   "cell_type": "markdown",
   "metadata": {},
   "source": [
    "__Модель Histogram-based Gradient Boosting Classification Tree__"
   ]
  },
  {
   "cell_type": "code",
   "execution_count": 10,
   "metadata": {},
   "outputs": [
    {
     "name": "stdout",
     "output_type": "stream",
     "text": [
      "Класифікаційний звіт для моделі Histogram-based Gradient Boosting Classification Tree:\n",
      "               precision    recall  f1-score   support\n",
      "\n",
      "           0       0.95      0.96      0.95     32224\n",
      "           1       0.97      0.96      0.96     40050\n",
      "\n",
      "    accuracy                           0.96     72274\n",
      "   macro avg       0.96      0.96      0.96     72274\n",
      "weighted avg       0.96      0.96      0.96     72274\n",
      "\n",
      "Розмір моделі: 1976064 B (1929.75 kB / 1.88 MB)\n"
     ]
    }
   ],
   "source": [
    "model_classification_report(model_HGB, model_HGB_name, X, y)\n",
    "model_HGB_size = model_size(model_HGB_path)"
   ]
  },
  {
   "cell_type": "markdown",
   "metadata": {},
   "source": [
    "__Модель Gradient Boosting__"
   ]
  },
  {
   "cell_type": "code",
   "execution_count": 11,
   "metadata": {},
   "outputs": [
    {
     "name": "stdout",
     "output_type": "stream",
     "text": [
      "Класифікаційний звіт для моделі Gradient Boosting:\n",
      "               precision    recall  f1-score   support\n",
      "\n",
      "           0       0.93      0.95      0.94     32224\n",
      "           1       0.96      0.94      0.95     40050\n",
      "\n",
      "    accuracy                           0.95     72274\n",
      "   macro avg       0.95      0.95      0.95     72274\n",
      "weighted avg       0.95      0.95      0.95     72274\n",
      "\n",
      "Розмір моделі: 924349 B (902.68 kB / 0.88 MB)\n"
     ]
    }
   ],
   "source": [
    "model_classification_report(model_GB, model_GB_name, X, y)\n",
    "model_GB_size = model_size(model_GB_path)"
   ]
  },
  {
   "cell_type": "markdown",
   "metadata": {},
   "source": [
    "__Модель Logistic Regression__"
   ]
  },
  {
   "cell_type": "code",
   "execution_count": 12,
   "metadata": {},
   "outputs": [
    {
     "name": "stdout",
     "output_type": "stream",
     "text": [
      "Класифікаційний звіт для моделі Logistic Regression:\n",
      "               precision    recall  f1-score   support\n",
      "\n",
      "           0       0.84      0.77      0.81     32224\n",
      "           1       0.83      0.88      0.86     40050\n",
      "\n",
      "    accuracy                           0.83     72274\n",
      "   macro avg       0.84      0.83      0.83     72274\n",
      "weighted avg       0.83      0.83      0.83     72274\n",
      "\n",
      "Розмір моделі: 1439 B (1.41 kB / 0.00 MB)\n"
     ]
    }
   ],
   "source": [
    "model_classification_report(model_LR, model_LR_name, X, y)\n",
    "model_LR_size = model_size(model_LR_path)"
   ]
  },
  {
   "cell_type": "markdown",
   "metadata": {},
   "source": [
    "__Відсоткове співвідношення розмірів моделей__"
   ]
  },
  {
   "cell_type": "code",
   "execution_count": 13,
   "metadata": {},
   "outputs": [
    {
     "name": "stdout",
     "output_type": "stream",
     "text": [
      "Random Forest: 95.18%\n",
      "Histogram-based Gradient Boosting Classification Tree: 3.28%\n",
      "Gradient Boosting: 1.53%\n",
      "Logistic Regression: 0.00%\n"
     ]
    }
   ],
   "source": [
    "sum_sizes = model_RF_size + model_HGB_size + model_GB_size + model_LR_size\n",
    "print(f\"{model_RF_name}: {model_RF_size / sum_sizes * 100:.2f}%\")\n",
    "print(f\"{model_HGB_name}: {model_HGB_size / sum_sizes * 100:.2f}%\")\n",
    "print(f\"{model_GB_name}: {model_GB_size / sum_sizes * 100:.2f}%\")\n",
    "print(f\"{model_LR_name}: {model_LR_size / sum_sizes * 100:.2f}%\")"
   ]
  },
  {
   "cell_type": "code",
   "execution_count": 14,
   "metadata": {},
   "outputs": [],
   "source": [
    "import json\n",
    "\n",
    "\n",
    "# Шлях до файлу для збереження даних\n",
    "results_path = \"../results/model_evaluation.json\"\n",
    "\n",
    "# Функція для збереження даних у JSON-файл\n",
    "def save_results_to_json(model_name, classification_report, model_size):\n",
    "    # Перевіряємо, чи файл вже існує\n",
    "    if os.path.exists(results_path):\n",
    "        with open(results_path, \"r\") as f:\n",
    "            results = json.load(f)\n",
    "    else:\n",
    "        results = {}\n",
    "\n",
    "    # Додаємо дані для поточної моделі\n",
    "    results[model_name] = {\n",
    "        \"classification_report\": classification_report,\n",
    "        \"model_size_mb\": model_size,\n",
    "    }\n",
    "\n",
    "    # Записуємо результати у JSON-файл\n",
    "    with open(results_path, \"w\") as f:\n",
    "        json.dump(results, f, indent=4)"
   ]
  },
  {
   "cell_type": "markdown",
   "metadata": {},
   "source": [
    "## Висновки\n",
    "\n",
    "Розглянуто чотири моделі з бібліотеки `sklearn`. Здійснено оцінку *точності* моделей на усіх даних і на тестових даних за допомогою `classification_report` та *розміру* моделей.\n",
    "\n",
    "**Рейтинг моделей за точність на тестових даних (починаючи від найточнішої):**\n",
    "\n",
    "1. *Histogram-based Gradient Boosting Classification Tree*: 94%\n",
    "2. *Random Forest*: 94%\n",
    "3. *Gradient Boosting*: 94%\n",
    "4. *Logistic Regression*: 84%\n",
    "\n",
    "**Коментарі:** На тестових даних моделі *Random Forest*, *Histogram-based Gradient Boosting Classification Tree* та *Gradient Boosting* мають однакове значення метрики *accuracy*, але значення метрик *precision*, *recall* та *f1-score* відрізняються. Модель *Logistic Regression* має відчутно меншу точність ніж усі інші, але однаково залишається досить точною.\n",
    "\n",
    "**Рейтинг моделей за точність на усіх даних (починаючи від найточнішої):**\n",
    "\n",
    "1. *Random Forest*: 98%\n",
    "2. *Histogram-based Gradient Boosting Classification Tree*: 96%\n",
    "3. *Gradient Boosting*: 95%\n",
    "4. *Logistic Regression*: 83%\n",
    "\n",
    "**Коментарі:** На усіх даних найточнішою є модель *Random Forest*. Точність моделі *Histogram-based Gradient Boosting Classification Tree* менше ніж *Random Forest*, але різниця невелика. У моделі *Gradient Boosting* нижче точність ніж у *Histogram-based Gradient Boosting Classification Tree*, але різниця зовзім мала. Модель *Logistic Regression* має відчутно меншу точність ніж усі інші, але однаково залишається досить точною.\n",
    "\n",
    "**Рейтинг моделей за розміром (починаючи від найменшої):**\n",
    "\n",
    "1. *Logistic Regression*: 1.41 kB (0.00% від суми розмірів усіх моделей)\n",
    "2. *Gradient Boosting*: 0.88 MB (1.54% від суми розмірів усіх моделей)\n",
    "3. *Histogram-based Gradient Boosting Classification Tree*: 1.88 MB (3.29% від суми розмірів усіх моделей)\n",
    "4. *Random Forest*: 54.55 MB (95.17% від суми розмірів усіх моделей)\n",
    "\n",
    "**Коментарі:** Модель *Random Forest* важить набагато більше ніж інші моделі. Модель *Gradient Boosting* важить менше ніж *Histogram-based Gradient Boosting Classification Tree*, але різниця не є суттєвою. Модель *Logistic Regression* займає мінімальну кількість пам'яті.\n",
    "\n",
    "**Підсумуємо результати:**\n",
    "\n",
    "- Найточнішою є модель *Random Forest*, але й важить вона набагато більше ніж інші моделі.\n",
    "- Точність моделі *Histogram-based Gradient Boosting Classification Tree* трохи менше ніж у моделі *Random Forest*, але важить вона набагато менше. Також саме ця модель найкраще себе показала на тестових даних.\n",
    "- Модель *Gradient Boosting* має трохи нижчу точність та розмір ніж модель *Histogram-based Gradient Boosting Classification Tree*, але різниця не є суттєвою.\n",
    "- Модель *Logistic Regression* має відчутно меншу точність ніж усі інші, але однаково залишається досить точною. До того ж модель займає мінімальну кількість пам'яті. Для *задачі прогнозування відтоку клієнтів* висока точність не є критично необхідною, тому модель має право на існування.\n",
    "\n",
    "**Рекомендації:**\n",
    "\n",
    "- Якщо обирати \"золоту середину\" між точністю та розміром, то варто обрати *Histogram-based Gradient Boosting Classification Tree*. Модель має високу точність і невеликий розмір.\n",
    "- Якщо критично важлива точність, то варто обрати *Random Forest*.\n",
    "- Якщо критично важливим є розмір, то варто обрати *Logistic Regression*."
   ]
  }
 ],
 "metadata": {
  "kernelspec": {
   "display_name": "customer-outflow-dzA22ZuN-py3.12",
   "language": "python",
   "name": "python3"
  },
  "language_info": {
   "codemirror_mode": {
    "name": "ipython",
    "version": 3
   },
   "file_extension": ".py",
   "mimetype": "text/x-python",
   "name": "python",
   "nbconvert_exporter": "python",
   "pygments_lexer": "ipython3",
   "version": "3.12.3"
  }
 },
 "nbformat": 4,
 "nbformat_minor": 2
}
