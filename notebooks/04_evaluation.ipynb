{
 "cells": [
  {
   "cell_type": "markdown",
   "metadata": {},
   "source": [
    "# Оцінка моделей"
   ]
  },
  {
   "cell_type": "code",
   "execution_count": 45,
   "metadata": {},
   "outputs": [],
   "source": [
    "import pandas as pd\n",
    "import os\n",
    "from sklearn.metrics import classification_report\n",
    "from joblib import load"
   ]
  },
  {
   "cell_type": "markdown",
   "metadata": {},
   "source": [
    "Зчитування файлу processed_data.csv."
   ]
  },
  {
   "cell_type": "code",
   "execution_count": 46,
   "metadata": {},
   "outputs": [],
   "source": [
    "df = pd.read_csv(\"../data/processed/processed_data.csv\")"
   ]
  },
  {
   "cell_type": "code",
   "execution_count": 47,
   "metadata": {},
   "outputs": [],
   "source": [
    "X = df[df.columns[1:-1]]\n",
    "y = df[df.columns[-1:]].values.flatten()"
   ]
  },
  {
   "cell_type": "markdown",
   "metadata": {},
   "source": [
    "__Функція для виведення класифікаційного звіту__"
   ]
  },
  {
   "cell_type": "code",
   "execution_count": 48,
   "metadata": {},
   "outputs": [],
   "source": [
    "def model_classification_report(model, model_name: str, X_test, y_test):\n",
    "    y_pred = model.predict(X_test)\n",
    "    print(\n",
    "        f\"Класифікаційний звіт для моделі {model_name}:\\n\",\n",
    "        classification_report(y_test, y_pred),\n",
    "    )"
   ]
  },
  {
   "cell_type": "markdown",
   "metadata": {},
   "source": [
    "__Функція для виведення розміру моделі__"
   ]
  },
  {
   "cell_type": "code",
   "execution_count": 49,
   "metadata": {},
   "outputs": [],
   "source": [
    "def model_size(model_path: str):\n",
    "    size_in_bytes = os.path.getsize(model_path)\n",
    "    size_in_kb = size_in_bytes / 1024\n",
    "    size_in_mb = size_in_kb / 1024\n",
    "    print(\n",
    "        f\"Розмір моделі: {size_in_bytes} B ({size_in_kb:.2f} kB / {size_in_mb:.2f} MB)\"\n",
    "    )\n",
    "    return size_in_bytes"
   ]
  },
  {
   "cell_type": "markdown",
   "metadata": {},
   "source": [
    "__Функції для визначення важливості ознак моделі__"
   ]
  },
  {
   "cell_type": "markdown",
   "metadata": {},
   "source": [
    "Для *Random Forest* і *Gradient Boosting*."
   ]
  },
  {
   "cell_type": "code",
   "execution_count": 83,
   "metadata": {},
   "outputs": [],
   "source": [
    "def model_weights(model) -> dict:\n",
    "    \"\"\"\n",
    "    Функція повертає ваги усіх ознак.\n",
    "    \"\"\"\n",
    "    weights_dict =  {\n",
    "        name: weight\n",
    "        for name, weight in zip(\n",
    "            model.feature_names_in_, model.feature_importances_\n",
    "        )\n",
    "    }\n",
    "    return dict(sorted(weights_dict.items(), key=lambda x: x[1], reverse=True))"
   ]
  },
  {
   "cell_type": "code",
   "execution_count": 84,
   "metadata": {},
   "outputs": [],
   "source": [
    "def weight_importances(weights: dict):\n",
    "    \"\"\"\n",
    "    Функція повертає важливі і неважливі ознаки в залежності від заданої точності.\n",
    "    \"\"\"\n",
    "    is_very_important = {}\n",
    "    is_important = {}\n",
    "    not_very_important = {}\n",
    "    not_important = {}\n",
    "    for name, weight in zip(weights.keys(), weights.values()):\n",
    "        if weight.round(0):\n",
    "            is_very_important[name] = weight\n",
    "        elif weight.round(1):\n",
    "            is_important[name] = weight\n",
    "        elif weight.round(2):\n",
    "            not_very_important[name] = weight\n",
    "        else:\n",
    "            not_important[name] = weight\n",
    "    return is_very_important, is_important, not_very_important, not_important"
   ]
  },
  {
   "cell_type": "code",
   "execution_count": 90,
   "metadata": {},
   "outputs": [],
   "source": [
    "def weight_importances_report(model):\n",
    "    \"\"\"\n",
    "    Функція виводить повний звіт з важливості ознак в залежності від заданої точності.\n",
    "    \"\"\"\n",
    "    weights = model_weights(model)\n",
    "    is_very_important, is_important, not_very_important, not_important = (\n",
    "        weight_importances(weights)\n",
    "    )\n",
    "    print(\"Ваги всіх ознак:\")\n",
    "    for name, weight in zip(weights.keys(), weights.values()):\n",
    "        print(f\"{name}: {weight}\")\n",
    "    print(\"\\n\")\n",
    "\n",
    "    print(\"Найважливіші ознаки:\")\n",
    "    for w in is_very_important.keys():\n",
    "        print(w)\n",
    "    print(\"\\n\")\n",
    "\n",
    "    print(\"Значимі ознаки:\")\n",
    "    for w in is_important.keys():\n",
    "        print(w)\n",
    "    print(\"\\n\")\n",
    "\n",
    "    print(\"Несуттєві ознаки:\")\n",
    "    for w in not_very_important.keys():\n",
    "        print(w)\n",
    "    print(\"\\n\")\n",
    "\n",
    "    print(\"Неважливі ознаки:\")\n",
    "    for w in not_important.keys():\n",
    "        print(w)"
   ]
  },
  {
   "cell_type": "markdown",
   "metadata": {},
   "source": [
    "Завантаження моделей."
   ]
  },
  {
   "cell_type": "code",
   "execution_count": 6,
   "metadata": {},
   "outputs": [],
   "source": [
    "model_RF_path = \"../models/model_RandomForest.joblib\"\n",
    "model_HGB_path = \"../models/model_HistGradientBoosting.joblib\"\n",
    "model_GB_path = \"../models/model_GradientBoosting.joblib\"\n",
    "model_LR_path = \"../models/model_LogisticRegression.joblib\""
   ]
  },
  {
   "cell_type": "code",
   "execution_count": 7,
   "metadata": {},
   "outputs": [],
   "source": [
    "model_RF = load(model_RF_path)\n",
    "model_HGB = load(model_HGB_path)\n",
    "model_GB = load(model_GB_path)\n",
    "model_LR = load(model_LR_path)"
   ]
  },
  {
   "cell_type": "code",
   "execution_count": 8,
   "metadata": {},
   "outputs": [],
   "source": [
    "model_RF_name = \"Random Forest\"\n",
    "model_HGB_name = \"Histogram-based Gradient Boosting Classification Tree\"\n",
    "model_GB_name = \"Gradient Boosting\"\n",
    "model_LR_name = \"Logistic Regression\""
   ]
  },
  {
   "cell_type": "markdown",
   "metadata": {},
   "source": [
    "__Модель Random Forest__"
   ]
  },
  {
   "cell_type": "code",
   "execution_count": 10,
   "metadata": {},
   "outputs": [
    {
     "name": "stdout",
     "output_type": "stream",
     "text": [
      "Класифікаційний звіт для моделі Random Forest:\n",
      "               precision    recall  f1-score   support\n",
      "\n",
      "           0       0.98      1.00      0.99     32224\n",
      "           1       1.00      0.98      0.99     40050\n",
      "\n",
      "    accuracy                           0.99     72274\n",
      "   macro avg       0.99      0.99      0.99     72274\n",
      "weighted avg       0.99      0.99      0.99     72274\n",
      "\n",
      "Розмір моделі: 35679673 B (34843.43 kB / 34.03 MB)\n"
     ]
    }
   ],
   "source": [
    "model_classification_report(model_RF, model_RF_name, X, y)\n",
    "model_RF_size = model_size(model_RF_path)"
   ]
  },
  {
   "cell_type": "markdown",
   "metadata": {},
   "source": [
    "__Модель Histogram-based Gradient Boosting Classification Tree__"
   ]
  },
  {
   "cell_type": "code",
   "execution_count": 11,
   "metadata": {},
   "outputs": [
    {
     "name": "stdout",
     "output_type": "stream",
     "text": [
      "Класифікаційний звіт для моделі Histogram-based Gradient Boosting Classification Tree:\n",
      "               precision    recall  f1-score   support\n",
      "\n",
      "           0       0.96      1.00      0.98     32224\n",
      "           1       1.00      0.97      0.98     40050\n",
      "\n",
      "    accuracy                           0.98     72274\n",
      "   macro avg       0.98      0.98      0.98     72274\n",
      "weighted avg       0.98      0.98      0.98     72274\n",
      "\n",
      "Розмір моделі: 1976064 B (1929.75 kB / 1.88 MB)\n"
     ]
    }
   ],
   "source": [
    "model_classification_report(model_HGB, model_HGB_name, X, y)\n",
    "model_HGB_size = model_size(model_HGB_path)"
   ]
  },
  {
   "cell_type": "markdown",
   "metadata": {},
   "source": [
    "__Модель Gradient Boosting__"
   ]
  },
  {
   "cell_type": "code",
   "execution_count": 12,
   "metadata": {},
   "outputs": [
    {
     "name": "stdout",
     "output_type": "stream",
     "text": [
      "Класифікаційний звіт для моделі Gradient Boosting:\n",
      "               precision    recall  f1-score   support\n",
      "\n",
      "           0       0.94      0.99      0.97     32224\n",
      "           1       0.99      0.95      0.97     40050\n",
      "\n",
      "    accuracy                           0.97     72274\n",
      "   macro avg       0.97      0.97      0.97     72274\n",
      "weighted avg       0.97      0.97      0.97     72274\n",
      "\n",
      "Розмір моделі: 926750 B (905.03 kB / 0.88 MB)\n"
     ]
    }
   ],
   "source": [
    "model_classification_report(model_GB, model_GB_name, X, y)\n",
    "model_GB_size = model_size(model_GB_path)"
   ]
  },
  {
   "cell_type": "markdown",
   "metadata": {},
   "source": [
    "__Модель Logistic Regression__"
   ]
  },
  {
   "cell_type": "code",
   "execution_count": 13,
   "metadata": {},
   "outputs": [
    {
     "name": "stdout",
     "output_type": "stream",
     "text": [
      "Класифікаційний звіт для моделі Logistic Regression:\n",
      "               precision    recall  f1-score   support\n",
      "\n",
      "           0       0.90      0.85      0.87     32224\n",
      "           1       0.88      0.93      0.90     40050\n",
      "\n",
      "    accuracy                           0.89     72274\n",
      "   macro avg       0.89      0.89      0.89     72274\n",
      "weighted avg       0.89      0.89      0.89     72274\n",
      "\n",
      "Розмір моделі: 1439 B (1.41 kB / 0.00 MB)\n"
     ]
    }
   ],
   "source": [
    "model_classification_report(model_LR, model_LR_name, X, y)\n",
    "model_LR_size = model_size(model_LR_path)"
   ]
  },
  {
   "cell_type": "markdown",
   "metadata": {},
   "source": [
    "__Відсоткове співвідношення розмірів моделей__"
   ]
  },
  {
   "cell_type": "code",
   "execution_count": 14,
   "metadata": {},
   "outputs": [
    {
     "name": "stdout",
     "output_type": "stream",
     "text": [
      "Random Forest: 92.47%\n",
      "Histogram-based Gradient Boosting Classification Tree: 5.12%\n",
      "Gradient Boosting: 2.40%\n",
      "Logistic Regression: 0.00%\n"
     ]
    }
   ],
   "source": [
    "sum_sizes = model_RF_size + model_HGB_size + model_GB_size + model_LR_size\n",
    "print(f\"{model_RF_name}: {model_RF_size / sum_sizes * 100:.2f}%\")\n",
    "print(f\"{model_HGB_name}: {model_HGB_size / sum_sizes * 100:.2f}%\")\n",
    "print(f\"{model_GB_name}: {model_GB_size / sum_sizes * 100:.2f}%\")\n",
    "print(f\"{model_LR_name}: {model_LR_size / sum_sizes * 100:.2f}%\")"
   ]
  },
  {
   "cell_type": "markdown",
   "metadata": {},
   "source": [
    "__Визначення важливості ознак за допомогою моделей *Random Forest* і *Gradient Boosting*__"
   ]
  },
  {
   "cell_type": "markdown",
   "metadata": {},
   "source": [
    "Модель *Random Forest*"
   ]
  },
  {
   "cell_type": "code",
   "execution_count": 91,
   "metadata": {},
   "outputs": [
    {
     "name": "stdout",
     "output_type": "stream",
     "text": [
      "Ваги всіх ознак:\n",
      "reamining_contract: 0.7981239991694896\n",
      "download_avg: 0.08899768419466725\n",
      "subscription_age: 0.04155671068084767\n",
      "bill_avg: 0.03351150519552693\n",
      "upload_avg: 0.02499785369950591\n",
      "is_movie_package_subscriber: 0.007629672885035192\n",
      "service_failure_count: 0.002975207181797452\n",
      "is_tv_subscriber: 0.0017849733105344593\n",
      "download_over_limit: 0.00042239368259551377\n",
      "\n",
      "\n",
      "Найважливіші ознаки:\n",
      "reamining_contract\n",
      "\n",
      "\n",
      "Значимі ознаки:\n",
      "download_avg\n",
      "\n",
      "\n",
      "Несуттєві ознаки:\n",
      "subscription_age\n",
      "bill_avg\n",
      "upload_avg\n",
      "is_movie_package_subscriber\n",
      "\n",
      "\n",
      "Неважливі ознаки:\n",
      "service_failure_count\n",
      "is_tv_subscriber\n",
      "download_over_limit\n"
     ]
    }
   ],
   "source": [
    "weight_importances_report(model_RF)"
   ]
  },
  {
   "cell_type": "markdown",
   "metadata": {},
   "source": [
    "Модель *Gradient Boosting*"
   ]
  },
  {
   "cell_type": "code",
   "execution_count": 92,
   "metadata": {},
   "outputs": [
    {
     "name": "stdout",
     "output_type": "stream",
     "text": [
      "Ваги всіх ознак:\n",
      "reamining_contract: 0.9210702162623913\n",
      "download_avg: 0.05534566529148799\n",
      "bill_avg: 0.009974063822173584\n",
      "subscription_age: 0.006609334080184129\n",
      "upload_avg: 0.0044901691757585575\n",
      "is_movie_package_subscriber: 0.0013654132990525356\n",
      "is_tv_subscriber: 0.000516898143753497\n",
      "service_failure_count: 0.0003190700155256619\n",
      "download_over_limit: 0.00030916990967257927\n",
      "\n",
      "\n",
      "Найважливіші ознаки:\n",
      "reamining_contract\n",
      "\n",
      "\n",
      "Значимі ознаки:\n",
      "download_avg\n",
      "\n",
      "\n",
      "Несуттєві ознаки:\n",
      "bill_avg\n",
      "subscription_age\n",
      "\n",
      "\n",
      "Неважливі ознаки:\n",
      "upload_avg\n",
      "is_movie_package_subscriber\n",
      "is_tv_subscriber\n",
      "service_failure_count\n",
      "download_over_limit\n"
     ]
    }
   ],
   "source": [
    "weight_importances_report(model_GB)"
   ]
  },
  {
   "cell_type": "code",
   "execution_count": 15,
   "metadata": {},
   "outputs": [
    {
     "name": "stdout",
     "output_type": "stream",
     "text": [
      "Розмір моделі: 35679673 B (34843.43 kB / 34.03 MB)\n",
      "Розмір моделі: 1976064 B (1929.75 kB / 1.88 MB)\n",
      "Розмір моделі: 926750 B (905.03 kB / 0.88 MB)\n",
      "Розмір моделі: 1439 B (1.41 kB / 0.00 MB)\n"
     ]
    }
   ],
   "source": [
    "import json\n",
    "\n",
    "\n",
    "# Шлях до файлу для збереження даних\n",
    "results_path = \"../results/model_evaluation.json\"\n",
    "\n",
    "# Функція для збереження даних у JSON-файл\n",
    "def save_results_to_json(model_name, classification_report, model_size):\n",
    "    # Перевіряємо, чи файл вже існує\n",
    "    if os.path.exists(results_path):\n",
    "        with open(results_path, \"r\") as f:\n",
    "            results = json.load(f)\n",
    "    else:\n",
    "        results = {}\n",
    "\n",
    "    # Додаємо дані для поточної моделі\n",
    "    results[model_name] = {\n",
    "        \"classification_report\": classification_report,\n",
    "        \"model_size_mb\": model_size,\n",
    "    }\n",
    "\n",
    "    # Записуємо результати у JSON-файл\n",
    "    with open(results_path, \"w\") as f:\n",
    "        json.dump(results, f, indent=4)\n",
    "\n",
    "# Приклад для Random Forest\n",
    "model_RF_report = classification_report(y, model_RF.predict(X), output_dict=True)\n",
    "model_RF_size_mb = model_size(model_RF_path) / (1024 * 1024)  # Конвертуємо в MB\n",
    "save_results_to_json(model_RF_name, model_RF_report, model_RF_size_mb)\n",
    "\n",
    "# Повторюємо для інших моделей\n",
    "model_HGB_report = classification_report(y, model_HGB.predict(X), output_dict=True)\n",
    "model_HGB_size_mb = model_size(model_HGB_path) / (1024 * 1024)\n",
    "save_results_to_json(model_HGB_name, model_HGB_report, model_HGB_size_mb)\n",
    "\n",
    "model_GB_report = classification_report(y, model_GB.predict(X), output_dict=True)\n",
    "model_GB_size_mb = model_size(model_GB_path) / (1024 * 1024)\n",
    "save_results_to_json(model_GB_name, model_GB_report, model_GB_size_mb)\n",
    "\n",
    "model_LR_report = classification_report(y, model_LR.predict(X), output_dict=True)\n",
    "model_LR_size_mb = model_size(model_LR_path) / (1024 * 1024)\n",
    "save_results_to_json(model_LR_name, model_LR_report, model_LR_size_mb)\n"
   ]
  },
  {
   "cell_type": "markdown",
   "metadata": {},
   "source": [
    "## Висновки щодо вибору моделі\n",
    "\n",
    "Розглянуто чотири моделі з бібліотеки `sklearn`. Здійснено оцінку *точності* моделей на усіх даних і на тестових даних за допомогою `classification_report` та *розміру* моделей.\n",
    "\n",
    "**Рейтинг моделей за точність на тестових даних (починаючи від найточнішої):**\n",
    "\n",
    "1. *Random Forest* та *Histogram-based Gradient Boosting Classification Tree*: 97%\n",
    "2. *Gradient Boosting*: 96%\n",
    "3. *Logistic Regression*: 89%\n",
    "\n",
    "**Коментарі:** Моделі *Random Forest* та *Histogram-based Gradient Boosting Classification Tree* показали однакові значення метрик якості. Метод *Gradient Boosting* має трохи нижчі значення метрик якості. Модель *Logistic Regression* має відчутно меншу точність ніж усі інші, але однаково залишається досить точною.\n",
    "\n",
    "**Рейтинг моделей за точність на усіх даних (починаючи від найточнішої):**\n",
    "\n",
    "1. *Random Forest*: 99%\n",
    "2. *Histogram-based Gradient Boosting Classification Tree*: 98%\n",
    "3. *Gradient Boosting*: 97%\n",
    "4. *Logistic Regression*: 89%\n",
    "\n",
    "**Коментарі:** На усіх даних найточнішою є модель *Random Forest*. Точність моделі *Histogram-based Gradient Boosting Classification Tree* менше ніж *Random Forest*, але різниця невелика. У моделі *Gradient Boosting* нижче точність ніж у *Histogram-based Gradient Boosting Classification Tree*, але різниця також невелика. Модель *Logistic Regression* має відчутно меншу точність ніж усі інші, але однаково залишається досить точною.\n",
    "\n",
    "**Рейтинг моделей за розміром (починаючи від найменшої):**\n",
    "\n",
    "1. *Logistic Regression*: 1.41 kB (0.00% від суми розмірів усіх моделей)\n",
    "2. *Gradient Boosting*: 0.88 MB (2.4% від суми розмірів усіх моделей)\n",
    "3. *Histogram-based Gradient Boosting Classification Tree*: 1.88 MB (5.12% від суми розмірів усіх моделей)\n",
    "4. *Random Forest*: 34.03 MB (92.47% від суми розмірів усіх моделей)\n",
    "\n",
    "**Коментарі:** Модель *Random Forest* важить набагато більше ніж інші моделі. Модель *Gradient Boosting* важить менше ніж *Histogram-based Gradient Boosting Classification Tree*, але різниця не є суттєвою. Модель *Logistic Regression* займає мінімальну кількість пам'яті.\n",
    "\n",
    "**Підсумуємо результати:**\n",
    "\n",
    "- Найточнішою є модель *Random Forest*, але й важить вона набагато більше ніж інші моделі.\n",
    "- Точність моделі *Histogram-based Gradient Boosting Classification Tree* трохи менше ніж у моделі *Random Forest*, але важить вона набагато менше. Також саме ця модель найкраще себе показала на тестових даних.\n",
    "- Модель *Gradient Boosting* має трохи нижчу точність та розмір ніж модель *Histogram-based Gradient Boosting Classification Tree*, але різниця не є суттєвою.\n",
    "- Модель *Logistic Regression* має відчутно меншу точність ніж усі інші, але однаково залишається досить точною. До того ж модель займає мінімальну кількість пам'яті. Для *задачі прогнозування відтоку клієнтів* висока точність не є критично необхідною, тому модель має право на існування.\n",
    "\n",
    "**Рекомендації:**\n",
    "\n",
    "- Якщо обирати \"золоту середину\" між точністю та розміром, то варто обрати *Histogram-based Gradient Boosting Classification Tree*. Модель має високу точність і невеликий розмір.\n",
    "- Якщо критично важлива точність, то варто обрати *Random Forest*.\n",
    "- Якщо критично важливим є розмір, то варто обрати *Logistic Regression*."
   ]
  },
  {
   "cell_type": "markdown",
   "metadata": {},
   "source": [
    "## Висновки щодо важливості ознак\n",
    "\n",
    "**Рейтинг ознак:**\n",
    "\n",
    "- *Найважливіша:*\n",
    "1. `reamining_contract`\n",
    "\n",
    "- *Значима:*\n",
    "\n",
    "2. `download_avg`\n",
    "\n",
    "- *Несуттєві:*\n",
    "\n",
    "3. `subscription_age`\n",
    "\n",
    "4. `bill_avg`\n",
    "\n",
    "- *Майже несуттєві:*\n",
    "\n",
    "5. `upload_avg`\n",
    "\n",
    "6. `is_movie_package_subscriber`\n",
    "\n",
    "- *Неважливі:*\n",
    "\n",
    "7. `service_failure_count`\n",
    "\n",
    "8. `is_tv_subscriber`\n",
    "\n",
    "9. `download_over_limit`\n",
    "\n",
    "Отже, відток клієнтів **сильно залежить** від *терміну залишку контракту* і **незалежить** від *кількісті збоїв сервісу*, *наявності підписки на ТБ* та *перевищення ліміту завантаження*. Також відток клієнтів **помірно залежить** від *середньої швидкості завантаження*, **слабо залежить** від *тривалості підписки* і *розміру середнього рахунку* та **майже незалежить** від *середньої швидкості вивантаження* і *наявності пакету фільмів*."
   ]
  }
 ],
 "metadata": {
  "kernelspec": {
   "display_name": "customer-outflow-LzZA1A1U-py3.12",
   "language": "python",
   "name": "python3"
  },
  "language_info": {
   "codemirror_mode": {
    "name": "ipython",
    "version": 3
   },
   "file_extension": ".py",
   "mimetype": "text/x-python",
   "name": "python",
   "nbconvert_exporter": "python",
   "pygments_lexer": "ipython3",
   "version": "3.12.3"
  }
 },
 "nbformat": 4,
 "nbformat_minor": 2
}
